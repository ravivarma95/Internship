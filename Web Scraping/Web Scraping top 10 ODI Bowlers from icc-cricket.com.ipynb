{
 "cells": [
  {
   "cell_type": "code",
   "execution_count": null,
   "id": "ab6070d1",
   "metadata": {},
   "outputs": [],
   "source": [
    "!pip install bs4\n",
    "!pip install requests"
   ]
  },
  {
   "cell_type": "code",
   "execution_count": 1,
   "id": "0473a62a",
   "metadata": {},
   "outputs": [],
   "source": [
    "from bs4 import BeautifulSoup\n",
    "import requests"
   ]
  },
  {
   "cell_type": "code",
   "execution_count": 256,
   "id": "3b966f9d",
   "metadata": {},
   "outputs": [],
   "source": [
    "Page = requests.get('https://www.icc-cricket.com/rankings/mens/player-rankings/odi/bowling')"
   ]
  },
  {
   "cell_type": "code",
   "execution_count": 257,
   "id": "41adfd1a",
   "metadata": {},
   "outputs": [],
   "source": [
    "soup = BeautifulSoup(Page.content)"
   ]
  },
  {
   "cell_type": "code",
   "execution_count": null,
   "id": "74b973a5",
   "metadata": {
    "scrolled": false
   },
   "outputs": [],
   "source": [
    "soup"
   ]
  },
  {
   "cell_type": "code",
   "execution_count": 259,
   "id": "1b25f6ee",
   "metadata": {},
   "outputs": [
    {
     "data": {
      "text/plain": [
       "[<div class=\"rankings-block__banner--name-large\">Trent Boult</div>]"
      ]
     },
     "execution_count": 259,
     "metadata": {},
     "output_type": "execute_result"
    }
   ],
   "source": [
    "r1_Player = soup.find_all('div', class_=\"rankings-block__banner--name-large\")\n",
    "r1_Player"
   ]
  },
  {
   "cell_type": "code",
   "execution_count": 260,
   "id": "0136225a",
   "metadata": {},
   "outputs": [
    {
     "data": {
      "text/plain": [
       "['Trent Boult']"
      ]
     },
     "execution_count": 260,
     "metadata": {},
     "output_type": "execute_result"
    }
   ],
   "source": [
    "row1_Player=[] \n",
    "for i in r1_Player:\n",
    "    row1_Player.append(i.text.replace('\\n',''))\n",
    "row1_Player"
   ]
  },
  {
   "cell_type": "code",
   "execution_count": 261,
   "id": "ce4f63ab",
   "metadata": {},
   "outputs": [
    {
     "data": {
      "text/plain": [
       "[<td class=\"table-body__cell rankings-table__name name\">\n",
       " <a href=\"/rankings/mens/player-rankings/857\">Josh Hazlewood</a>\n",
       " </td>,\n",
       " <td class=\"table-body__cell rankings-table__name name\">\n",
       " <a href=\"/rankings/mens/player-rankings/4572\">Mujeeb Ur Rahman</a>\n",
       " </td>,\n",
       " <td class=\"table-body__cell rankings-table__name name\">\n",
       " <a href=\"/rankings/mens/player-rankings/967\">Chris Woakes</a>\n",
       " </td>,\n",
       " <td class=\"table-body__cell rankings-table__name name\">\n",
       " <a href=\"/rankings/mens/player-rankings/1597\">Mehedi Hasan</a>\n",
       " </td>,\n",
       " <td class=\"table-body__cell rankings-table__name name\">\n",
       " <a href=\"/rankings/mens/player-rankings/1505\">Matt Henry</a>\n",
       " </td>]"
      ]
     },
     "execution_count": 261,
     "metadata": {},
     "output_type": "execute_result"
    }
   ],
   "source": [
    "r2_Player = soup.find_all('td', class_=\"table-body__cell rankings-table__name name\")\n",
    "r2_Player[0:5]"
   ]
  },
  {
   "cell_type": "code",
   "execution_count": 262,
   "id": "884d5fdf",
   "metadata": {},
   "outputs": [
    {
     "data": {
      "text/plain": [
       "['Josh Hazlewood',\n",
       " 'Mujeeb Ur Rahman',\n",
       " 'Chris Woakes',\n",
       " 'Mehedi Hasan',\n",
       " 'Matt Henry']"
      ]
     },
     "execution_count": 262,
     "metadata": {},
     "output_type": "execute_result"
    }
   ],
   "source": [
    "row2_Player=[] \n",
    "for i in r2_Player:\n",
    "    row2_Player.append(i.text.replace('\\n',''))\n",
    "row2_Player [0:5]\n"
   ]
  },
  {
   "cell_type": "code",
   "execution_count": 263,
   "id": "d1d1e88b",
   "metadata": {},
   "outputs": [
    {
     "data": {
      "text/plain": [
       "['Trent Boult',\n",
       " 'Josh Hazlewood',\n",
       " 'Mujeeb Ur Rahman',\n",
       " 'Chris Woakes',\n",
       " 'Mehedi Hasan',\n",
       " 'Matt Henry',\n",
       " 'Jasprit Bumrah',\n",
       " 'Mitchell Starc',\n",
       " 'Shakib Al Hasan',\n",
       " 'Kagiso Rabada']"
      ]
     },
     "execution_count": 263,
     "metadata": {},
     "output_type": "execute_result"
    }
   ],
   "source": [
    "Top10_Player = row1_Player + row2_Player[0:9]\n",
    "Top10_Player"
   ]
  },
  {
   "cell_type": "code",
   "execution_count": 264,
   "id": "8797c914",
   "metadata": {},
   "outputs": [
    {
     "data": {
      "text/plain": [
       "[<div class=\"rankings-block__banner--nationality\">\n",
       " <div class=\"flag-15 NZ\"></div>\n",
       " <span class=\"rankings-block__banner--nation\"></span>NZ\n",
       "                     </div>]"
      ]
     },
     "execution_count": 264,
     "metadata": {},
     "output_type": "execute_result"
    }
   ],
   "source": [
    "r1_Team = soup.find_all('div', class_=\"rankings-block__banner--nationality\")\n",
    "r1_Team"
   ]
  },
  {
   "cell_type": "code",
   "execution_count": 265,
   "id": "167b7152",
   "metadata": {},
   "outputs": [
    {
     "data": {
      "text/plain": [
       "['NZ                    ']"
      ]
     },
     "execution_count": 265,
     "metadata": {},
     "output_type": "execute_result"
    }
   ],
   "source": [
    "row1_Team=[] \n",
    "for i in r1_Team:\n",
    "    row1_Team.append(i.text.replace('\\n',''))\n",
    "row1_Team"
   ]
  },
  {
   "cell_type": "code",
   "execution_count": 266,
   "id": "a4626129",
   "metadata": {},
   "outputs": [
    {
     "data": {
      "text/plain": [
       "[<span class=\"table-body__logo-text\">AUS</span>,\n",
       " <span class=\"table-body__logo-text\">AFG</span>,\n",
       " <span class=\"table-body__logo-text\">ENG</span>,\n",
       " <span class=\"table-body__logo-text\">BAN</span>,\n",
       " <span class=\"table-body__logo-text\">NZ</span>]"
      ]
     },
     "execution_count": 266,
     "metadata": {},
     "output_type": "execute_result"
    }
   ],
   "source": [
    "r2_Team = soup.find_all('span', class_=\"table-body__logo-text\")\n",
    "r2_Team[0:5]"
   ]
  },
  {
   "cell_type": "code",
   "execution_count": 267,
   "id": "b675095b",
   "metadata": {},
   "outputs": [
    {
     "data": {
      "text/plain": [
       "['AUS', 'AFG', 'ENG', 'BAN', 'NZ']"
      ]
     },
     "execution_count": 267,
     "metadata": {},
     "output_type": "execute_result"
    }
   ],
   "source": [
    "row2_Team=[] \n",
    "for i in r2_Team:\n",
    "    row2_Team.append(i.text.replace('\\n',''))\n",
    "row2_Team[0:5]"
   ]
  },
  {
   "cell_type": "code",
   "execution_count": 268,
   "id": "061b32d2",
   "metadata": {},
   "outputs": [],
   "source": [
    "Top10_Team = row1_Team + row2_Team[0:9]"
   ]
  },
  {
   "cell_type": "code",
   "execution_count": 269,
   "id": "5572ca4d",
   "metadata": {},
   "outputs": [
    {
     "data": {
      "text/plain": [
       "['NZ                    ',\n",
       " 'AUS',\n",
       " 'AFG',\n",
       " 'ENG',\n",
       " 'BAN',\n",
       " 'NZ',\n",
       " 'IND',\n",
       " 'AUS',\n",
       " 'BAN',\n",
       " 'SA']"
      ]
     },
     "execution_count": 269,
     "metadata": {},
     "output_type": "execute_result"
    }
   ],
   "source": [
    "Top10_Team"
   ]
  },
  {
   "cell_type": "code",
   "execution_count": 270,
   "id": "efd23a23",
   "metadata": {},
   "outputs": [
    {
     "data": {
      "text/plain": [
       "[<div class=\"rankings-block__banner--rating\">737</div>]"
      ]
     },
     "execution_count": 270,
     "metadata": {},
     "output_type": "execute_result"
    }
   ],
   "source": [
    "r1_Rating = soup.find_all('div', class_=\"rankings-block__banner--rating\")\n",
    "r1_Rating"
   ]
  },
  {
   "cell_type": "code",
   "execution_count": 271,
   "id": "85c36983",
   "metadata": {},
   "outputs": [
    {
     "data": {
      "text/plain": [
       "['737']"
      ]
     },
     "execution_count": 271,
     "metadata": {},
     "output_type": "execute_result"
    }
   ],
   "source": [
    "row1_Rating=[] \n",
    "for i in r1_Rating:\n",
    "    row1_Rating.append(i.text.replace('\\n',''))\n",
    "row1_Rating"
   ]
  },
  {
   "cell_type": "code",
   "execution_count": 272,
   "id": "8c1658e5",
   "metadata": {},
   "outputs": [
    {
     "data": {
      "text/plain": [
       "[<td class=\"table-body__cell rating\">709</td>,\n",
       " <td class=\"table-body__cell rating\">708</td>,\n",
       " <td class=\"table-body__cell rating\">700</td>,\n",
       " <td class=\"table-body__cell rating\">692</td>,\n",
       " <td class=\"table-body__cell rating\">691</td>]"
      ]
     },
     "execution_count": 272,
     "metadata": {},
     "output_type": "execute_result"
    }
   ],
   "source": [
    "r2_Rating = soup.find_all('td', class_=\"table-body__cell rating\")\n",
    "r2_Rating[0:5]"
   ]
  },
  {
   "cell_type": "code",
   "execution_count": 273,
   "id": "5c182971",
   "metadata": {},
   "outputs": [
    {
     "data": {
      "text/plain": [
       "['709', '708', '700', '692', '691']"
      ]
     },
     "execution_count": 273,
     "metadata": {},
     "output_type": "execute_result"
    }
   ],
   "source": [
    "row2_Rating=[] \n",
    "for i in r2_Rating:\n",
    "    row2_Rating.append(i.text.replace('\\n',''))\n",
    "row2_Rating[0:5]"
   ]
  },
  {
   "cell_type": "code",
   "execution_count": 274,
   "id": "8fced032",
   "metadata": {},
   "outputs": [],
   "source": [
    "Top10_Rating = row1_Rating + row2_Rating[0:9]"
   ]
  },
  {
   "cell_type": "code",
   "execution_count": 275,
   "id": "70f69b2f",
   "metadata": {},
   "outputs": [
    {
     "data": {
      "text/plain": [
       "['737', '709', '708', '700', '692', '691', '679', '652', '650', '646']"
      ]
     },
     "execution_count": 275,
     "metadata": {},
     "output_type": "execute_result"
    }
   ],
   "source": [
    "Top10_Rating"
   ]
  },
  {
   "cell_type": "code",
   "execution_count": 277,
   "id": "9a2c233f",
   "metadata": {},
   "outputs": [],
   "source": [
    "Top10_Bowlers = {'Player':Top10_Player, 'Team':Top10_Team,'Rating':Top10_Rating}"
   ]
  },
  {
   "cell_type": "code",
   "execution_count": 278,
   "id": "e781192f",
   "metadata": {},
   "outputs": [
    {
     "data": {
      "text/html": [
       "<div>\n",
       "<style scoped>\n",
       "    .dataframe tbody tr th:only-of-type {\n",
       "        vertical-align: middle;\n",
       "    }\n",
       "\n",
       "    .dataframe tbody tr th {\n",
       "        vertical-align: top;\n",
       "    }\n",
       "\n",
       "    .dataframe thead th {\n",
       "        text-align: right;\n",
       "    }\n",
       "</style>\n",
       "<table border=\"1\" class=\"dataframe\">\n",
       "  <thead>\n",
       "    <tr style=\"text-align: right;\">\n",
       "      <th></th>\n",
       "      <th>Player</th>\n",
       "      <th>Team</th>\n",
       "      <th>Rating</th>\n",
       "    </tr>\n",
       "  </thead>\n",
       "  <tbody>\n",
       "    <tr>\n",
       "      <th>0</th>\n",
       "      <td>Trent Boult</td>\n",
       "      <td>NZ</td>\n",
       "      <td>737</td>\n",
       "    </tr>\n",
       "    <tr>\n",
       "      <th>1</th>\n",
       "      <td>Josh Hazlewood</td>\n",
       "      <td>AUS</td>\n",
       "      <td>709</td>\n",
       "    </tr>\n",
       "    <tr>\n",
       "      <th>2</th>\n",
       "      <td>Mujeeb Ur Rahman</td>\n",
       "      <td>AFG</td>\n",
       "      <td>708</td>\n",
       "    </tr>\n",
       "    <tr>\n",
       "      <th>3</th>\n",
       "      <td>Chris Woakes</td>\n",
       "      <td>ENG</td>\n",
       "      <td>700</td>\n",
       "    </tr>\n",
       "    <tr>\n",
       "      <th>4</th>\n",
       "      <td>Mehedi Hasan</td>\n",
       "      <td>BAN</td>\n",
       "      <td>692</td>\n",
       "    </tr>\n",
       "    <tr>\n",
       "      <th>5</th>\n",
       "      <td>Matt Henry</td>\n",
       "      <td>NZ</td>\n",
       "      <td>691</td>\n",
       "    </tr>\n",
       "    <tr>\n",
       "      <th>6</th>\n",
       "      <td>Jasprit Bumrah</td>\n",
       "      <td>IND</td>\n",
       "      <td>679</td>\n",
       "    </tr>\n",
       "    <tr>\n",
       "      <th>7</th>\n",
       "      <td>Mitchell Starc</td>\n",
       "      <td>AUS</td>\n",
       "      <td>652</td>\n",
       "    </tr>\n",
       "    <tr>\n",
       "      <th>8</th>\n",
       "      <td>Shakib Al Hasan</td>\n",
       "      <td>BAN</td>\n",
       "      <td>650</td>\n",
       "    </tr>\n",
       "    <tr>\n",
       "      <th>9</th>\n",
       "      <td>Kagiso Rabada</td>\n",
       "      <td>SA</td>\n",
       "      <td>646</td>\n",
       "    </tr>\n",
       "  </tbody>\n",
       "</table>\n",
       "</div>"
      ],
      "text/plain": [
       "             Player                    Team Rating\n",
       "0       Trent Boult  NZ                        737\n",
       "1    Josh Hazlewood                     AUS    709\n",
       "2  Mujeeb Ur Rahman                     AFG    708\n",
       "3      Chris Woakes                     ENG    700\n",
       "4      Mehedi Hasan                     BAN    692\n",
       "5        Matt Henry                      NZ    691\n",
       "6    Jasprit Bumrah                     IND    679\n",
       "7    Mitchell Starc                     AUS    652\n",
       "8   Shakib Al Hasan                     BAN    650\n",
       "9     Kagiso Rabada                      SA    646"
      ]
     },
     "execution_count": 278,
     "metadata": {},
     "output_type": "execute_result"
    }
   ],
   "source": [
    "import pandas as pd\n",
    "ODI_Top10_Bowlers = pd.DataFrame(Top10_Bowlers)\n",
    "ODI_Top10_Bowlers"
   ]
  },
  {
   "cell_type": "code",
   "execution_count": null,
   "id": "cedd3c42",
   "metadata": {},
   "outputs": [],
   "source": []
  }
 ],
 "metadata": {
  "kernelspec": {
   "display_name": "Python 3",
   "language": "python",
   "name": "python3"
  },
  "language_info": {
   "codemirror_mode": {
    "name": "ipython",
    "version": 3
   },
   "file_extension": ".py",
   "mimetype": "text/x-python",
   "name": "python",
   "nbconvert_exporter": "python",
   "pygments_lexer": "ipython3",
   "version": "3.8.8"
  }
 },
 "nbformat": 4,
 "nbformat_minor": 5
}
