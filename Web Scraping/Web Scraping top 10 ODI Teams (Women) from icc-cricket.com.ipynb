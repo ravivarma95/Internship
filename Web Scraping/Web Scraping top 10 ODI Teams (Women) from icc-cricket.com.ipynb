{
 "cells": [
  {
   "cell_type": "code",
   "execution_count": null,
   "id": "c51818b8",
   "metadata": {},
   "outputs": [],
   "source": [
    "!pip install bs4\n",
    "!pip install requests"
   ]
  },
  {
   "cell_type": "code",
   "execution_count": 5,
   "id": "bbed78af",
   "metadata": {},
   "outputs": [],
   "source": [
    "from bs4 import BeautifulSoup\n",
    "import requests"
   ]
  },
  {
   "cell_type": "code",
   "execution_count": 6,
   "id": "e1c5d6ed",
   "metadata": {},
   "outputs": [],
   "source": [
    "Page = requests.get('https://www.icc-cricket.com/rankings/womens/team-rankings/odi')"
   ]
  },
  {
   "cell_type": "code",
   "execution_count": 7,
   "id": "f74315e7",
   "metadata": {},
   "outputs": [],
   "source": [
    "soup = BeautifulSoup(Page.content)"
   ]
  },
  {
   "cell_type": "code",
   "execution_count": 8,
   "id": "dbf2b43e",
   "metadata": {},
   "outputs": [
    {
     "data": {
      "text/plain": [
       "<Response [200]>"
      ]
     },
     "execution_count": 8,
     "metadata": {},
     "output_type": "execute_result"
    }
   ],
   "source": [
    "Page"
   ]
  },
  {
   "cell_type": "code",
   "execution_count": null,
   "id": "ce5038b4",
   "metadata": {
    "scrolled": false
   },
   "outputs": [],
   "source": [
    "soup"
   ]
  },
  {
   "cell_type": "code",
   "execution_count": 9,
   "id": "9ea37c0c",
   "metadata": {},
   "outputs": [
    {
     "data": {
      "text/plain": [
       "[<span class=\"u-hide-phablet\">Australia</span>,\n",
       " <span class=\"u-hide-phablet\">England</span>,\n",
       " <span class=\"u-hide-phablet\">South Africa</span>,\n",
       " <span class=\"u-hide-phablet\">India</span>,\n",
       " <span class=\"u-hide-phablet\">New Zealand</span>,\n",
       " <span class=\"u-hide-phablet\">West Indies</span>,\n",
       " <span class=\"u-hide-phablet\">Pakistan</span>,\n",
       " <span class=\"u-hide-phablet\">Bangladesh</span>,\n",
       " <span class=\"u-hide-phablet\">Sri Lanka</span>,\n",
       " <span class=\"u-hide-phablet\">Ireland</span>]"
      ]
     },
     "execution_count": 9,
     "metadata": {},
     "output_type": "execute_result"
    }
   ],
   "source": [
    "Top_Teams= soup.find_all('span', class_=\"u-hide-phablet\")\n",
    "Top_Teams = Top_Teams[0:10]\n",
    "Top_Teams"
   ]
  },
  {
   "cell_type": "code",
   "execution_count": 10,
   "id": "1a9fdbcb",
   "metadata": {},
   "outputs": [
    {
     "data": {
      "text/plain": [
       "['Australia',\n",
       " 'England',\n",
       " 'South Africa',\n",
       " 'India',\n",
       " 'New Zealand',\n",
       " 'West Indies',\n",
       " 'Pakistan',\n",
       " 'Bangladesh',\n",
       " 'Sri Lanka',\n",
       " 'Ireland']"
      ]
     },
     "execution_count": 10,
     "metadata": {},
     "output_type": "execute_result"
    }
   ],
   "source": [
    "Top10_Teams = []\n",
    "for i in Top_Teams:\n",
    "    Top10_Teams.append(i.text)\n",
    "Top10_Teams  "
   ]
  },
  {
   "cell_type": "code",
   "execution_count": 11,
   "id": "2c3e3948",
   "metadata": {},
   "outputs": [
    {
     "data": {
      "text/plain": [
       "[<td class=\"rankings-block__banner--matches\">21</td>]"
      ]
     },
     "execution_count": 11,
     "metadata": {},
     "output_type": "execute_result"
    }
   ],
   "source": [
    "r1_Matches = soup.find_all('td', class_=\"rankings-block__banner--matches\")\n",
    "r1_Matches"
   ]
  },
  {
   "cell_type": "code",
   "execution_count": 12,
   "id": "b0381933",
   "metadata": {},
   "outputs": [
    {
     "data": {
      "text/plain": [
       "['21']"
      ]
     },
     "execution_count": 12,
     "metadata": {},
     "output_type": "execute_result"
    }
   ],
   "source": [
    "row1_Matches=[] \n",
    "for i in r1_Matches:\n",
    "    row1_Matches.append(i.text.replace('\\n',''))\n",
    "row1_Matches"
   ]
  },
  {
   "cell_type": "code",
   "execution_count": 13,
   "id": "2b02060e",
   "metadata": {},
   "outputs": [
    {
     "data": {
      "text/plain": [
       "[<td class=\"table-body__cell u-center-text\">25</td>,\n",
       " <td class=\"table-body__cell u-center-text\">2,983</td>,\n",
       " <td class=\"table-body__cell u-center-text\">29</td>,\n",
       " <td class=\"table-body__cell u-center-text\">3,390</td>,\n",
       " <td class=\"table-body__cell u-center-text\">26</td>,\n",
       " <td class=\"table-body__cell u-center-text\">2,934</td>,\n",
       " <td class=\"table-body__cell u-center-text\">26</td>,\n",
       " <td class=\"table-body__cell u-center-text\">2,392</td>,\n",
       " <td class=\"table-body__cell u-center-text\">22</td>,\n",
       " <td class=\"table-body__cell u-center-text\">1,872</td>,\n",
       " <td class=\"table-body__cell u-center-text\">20</td>,\n",
       " <td class=\"table-body__cell u-center-text\">1,496</td>,\n",
       " <td class=\"table-body__cell u-center-text\">5</td>,\n",
       " <td class=\"table-body__cell u-center-text\">306</td>,\n",
       " <td class=\"table-body__cell u-center-text\">11</td>,\n",
       " <td class=\"table-body__cell u-center-text\">519</td>,\n",
       " <td class=\"table-body__cell u-center-text\">2</td>,\n",
       " <td class=\"table-body__cell u-center-text\">25</td>]"
      ]
     },
     "execution_count": 13,
     "metadata": {},
     "output_type": "execute_result"
    }
   ],
   "source": [
    "r2_Matches = soup.find_all('td', class_=\"table-body__cell u-center-text\")\n",
    "r2_Matches"
   ]
  },
  {
   "cell_type": "code",
   "execution_count": 14,
   "id": "cf557dd5",
   "metadata": {},
   "outputs": [
    {
     "data": {
      "text/plain": [
       "['25', '29', '26', '26', '22', '20', '5', '11', '2']"
      ]
     },
     "execution_count": 14,
     "metadata": {},
     "output_type": "execute_result"
    }
   ],
   "source": [
    "row2_Matches=[] \n",
    "for i in range(0,len(r2_Matches),2):\n",
    "    row2_Matches.append(r2_Matches[i].text)\n",
    "row2_Matches \n"
   ]
  },
  {
   "cell_type": "code",
   "execution_count": 15,
   "id": "da2998cf",
   "metadata": {},
   "outputs": [
    {
     "data": {
      "text/plain": [
       "['21', '25', '29', '26', '26', '22', '20', '5', '11', '2']"
      ]
     },
     "execution_count": 15,
     "metadata": {},
     "output_type": "execute_result"
    }
   ],
   "source": [
    "Top10_Matches = row1_Matches + row2_Matches[0:9]\n",
    "Top10_Matches"
   ]
  },
  {
   "cell_type": "code",
   "execution_count": 16,
   "id": "1a42d09d",
   "metadata": {},
   "outputs": [
    {
     "data": {
      "text/plain": [
       "[<td class=\"rankings-block__banner--points\">3,379</td>]"
      ]
     },
     "execution_count": 16,
     "metadata": {},
     "output_type": "execute_result"
    }
   ],
   "source": [
    "r1_Points = soup.find_all('td', class_=\"rankings-block__banner--points\")\n",
    "r1_Points"
   ]
  },
  {
   "cell_type": "code",
   "execution_count": 17,
   "id": "2dfc4894",
   "metadata": {},
   "outputs": [
    {
     "data": {
      "text/plain": [
       "['3,379']"
      ]
     },
     "execution_count": 17,
     "metadata": {},
     "output_type": "execute_result"
    }
   ],
   "source": [
    "row1_Points=[] \n",
    "for i in r1_Points:\n",
    "    row1_Points.append(i.text.replace('\\n',''))\n",
    "row1_Points"
   ]
  },
  {
   "cell_type": "code",
   "execution_count": 18,
   "id": "a7bf3c14",
   "metadata": {},
   "outputs": [
    {
     "data": {
      "text/plain": [
       "[<td class=\"table-body__cell u-center-text\">25</td>,\n",
       " <td class=\"table-body__cell u-center-text\">2,983</td>,\n",
       " <td class=\"table-body__cell u-center-text\">29</td>,\n",
       " <td class=\"table-body__cell u-center-text\">3,390</td>,\n",
       " <td class=\"table-body__cell u-center-text\">26</td>,\n",
       " <td class=\"table-body__cell u-center-text\">2,934</td>,\n",
       " <td class=\"table-body__cell u-center-text\">26</td>,\n",
       " <td class=\"table-body__cell u-center-text\">2,392</td>,\n",
       " <td class=\"table-body__cell u-center-text\">22</td>,\n",
       " <td class=\"table-body__cell u-center-text\">1,872</td>,\n",
       " <td class=\"table-body__cell u-center-text\">20</td>,\n",
       " <td class=\"table-body__cell u-center-text\">1,496</td>,\n",
       " <td class=\"table-body__cell u-center-text\">5</td>,\n",
       " <td class=\"table-body__cell u-center-text\">306</td>,\n",
       " <td class=\"table-body__cell u-center-text\">11</td>,\n",
       " <td class=\"table-body__cell u-center-text\">519</td>,\n",
       " <td class=\"table-body__cell u-center-text\">2</td>,\n",
       " <td class=\"table-body__cell u-center-text\">25</td>]"
      ]
     },
     "execution_count": 18,
     "metadata": {},
     "output_type": "execute_result"
    }
   ],
   "source": [
    "r2_Points = soup.find_all('td', class_=\"table-body__cell u-center-text\")\n",
    "r2_Points"
   ]
  },
  {
   "cell_type": "code",
   "execution_count": 19,
   "id": "9d9073a8",
   "metadata": {},
   "outputs": [
    {
     "data": {
      "text/plain": [
       "['2,983', '3,390', '2,934', '2,392', '1,872', '1,496', '306', '519', '25']"
      ]
     },
     "execution_count": 19,
     "metadata": {},
     "output_type": "execute_result"
    }
   ],
   "source": [
    "row2_Points=[] \n",
    "for i in range(1,len(r2_Points),2):\n",
    "    row2_Points.append(r2_Points[i].text)\n",
    "row2_Points"
   ]
  },
  {
   "cell_type": "code",
   "execution_count": 20,
   "id": "7654f944",
   "metadata": {},
   "outputs": [],
   "source": [
    "Top10_points = row1_Points + row2_Points[0:9]"
   ]
  },
  {
   "cell_type": "code",
   "execution_count": 21,
   "id": "fb199944",
   "metadata": {},
   "outputs": [
    {
     "data": {
      "text/plain": [
       "['3,379',\n",
       " '2,983',\n",
       " '3,390',\n",
       " '2,934',\n",
       " '2,392',\n",
       " '1,872',\n",
       " '1,496',\n",
       " '306',\n",
       " '519',\n",
       " '25']"
      ]
     },
     "execution_count": 21,
     "metadata": {},
     "output_type": "execute_result"
    }
   ],
   "source": [
    "Top10_points"
   ]
  },
  {
   "cell_type": "code",
   "execution_count": 22,
   "id": "16c659d2",
   "metadata": {},
   "outputs": [
    {
     "data": {
      "text/plain": [
       "[<td class=\"rankings-block__banner--rating u-text-right\">\n",
       "                             161\n",
       "                             <span class=\"circle-branding circle-branding--top\"></span>\n",
       " <span class=\"circle-branding circle-branding--bottom\"></span>\n",
       " </td>]"
      ]
     },
     "execution_count": 22,
     "metadata": {},
     "output_type": "execute_result"
    }
   ],
   "source": [
    "r1_Rating = soup.find_all('td', class_=\"rankings-block__banner--rating u-text-right\")\n",
    "r1_Rating"
   ]
  },
  {
   "cell_type": "code",
   "execution_count": 23,
   "id": "5ab84b57",
   "metadata": {},
   "outputs": [
    {
     "data": {
      "text/plain": [
       "['                            161                            ']"
      ]
     },
     "execution_count": 23,
     "metadata": {},
     "output_type": "execute_result"
    }
   ],
   "source": [
    "row1_Rating=[] \n",
    "for i in r1_Rating:\n",
    "    row1_Rating.append(i.text.replace('\\n',''))\n",
    "row1_Rating"
   ]
  },
  {
   "cell_type": "code",
   "execution_count": 24,
   "id": "a1957a78",
   "metadata": {},
   "outputs": [
    {
     "data": {
      "text/plain": [
       "[<td class=\"table-body__cell u-text-right rating\">119</td>,\n",
       " <td class=\"table-body__cell u-text-right rating\">117</td>,\n",
       " <td class=\"table-body__cell u-text-right rating\">113</td>,\n",
       " <td class=\"table-body__cell u-text-right rating\">92</td>,\n",
       " <td class=\"table-body__cell u-text-right rating\">85</td>,\n",
       " <td class=\"table-body__cell u-text-right rating\">75</td>,\n",
       " <td class=\"table-body__cell u-text-right rating\">61</td>,\n",
       " <td class=\"table-body__cell u-text-right rating\">47</td>,\n",
       " <td class=\"table-body__cell u-text-right rating\">13</td>]"
      ]
     },
     "execution_count": 24,
     "metadata": {},
     "output_type": "execute_result"
    }
   ],
   "source": [
    "r2_Rating = soup.find_all('td', class_=\"table-body__cell u-text-right rating\")\n",
    "r2_Rating"
   ]
  },
  {
   "cell_type": "code",
   "execution_count": 25,
   "id": "e5f563f7",
   "metadata": {},
   "outputs": [
    {
     "data": {
      "text/plain": [
       "['119', '117', '113', '92', '85', '75', '61', '47', '13']"
      ]
     },
     "execution_count": 25,
     "metadata": {},
     "output_type": "execute_result"
    }
   ],
   "source": [
    "row2_Rating=[] \n",
    "for i in r2_Rating:\n",
    "    row2_Rating.append(i.text.replace('\\n',''))\n",
    "row2_Rating"
   ]
  },
  {
   "cell_type": "code",
   "execution_count": 26,
   "id": "2e697c52",
   "metadata": {},
   "outputs": [],
   "source": [
    "Top10_Rating = row1_Rating + row2_Rating[0:9]"
   ]
  },
  {
   "cell_type": "code",
   "execution_count": 27,
   "id": "91c0c573",
   "metadata": {},
   "outputs": [
    {
     "data": {
      "text/plain": [
       "['                            161                            ',\n",
       " '119',\n",
       " '117',\n",
       " '113',\n",
       " '92',\n",
       " '85',\n",
       " '75',\n",
       " '61',\n",
       " '47',\n",
       " '13']"
      ]
     },
     "execution_count": 27,
     "metadata": {},
     "output_type": "execute_result"
    }
   ],
   "source": [
    "Top10_Rating"
   ]
  },
  {
   "cell_type": "code",
   "execution_count": 28,
   "id": "86dbcbae",
   "metadata": {},
   "outputs": [],
   "source": [
    "Top_ODI = {'Team':Top10_Teams, 'Matches':Top10_Matches, 'Points':Top10_points, 'Rating':Top10_Rating}"
   ]
  },
  {
   "cell_type": "code",
   "execution_count": 29,
   "id": "66fb43bf",
   "metadata": {},
   "outputs": [
    {
     "data": {
      "text/html": [
       "<div>\n",
       "<style scoped>\n",
       "    .dataframe tbody tr th:only-of-type {\n",
       "        vertical-align: middle;\n",
       "    }\n",
       "\n",
       "    .dataframe tbody tr th {\n",
       "        vertical-align: top;\n",
       "    }\n",
       "\n",
       "    .dataframe thead th {\n",
       "        text-align: right;\n",
       "    }\n",
       "</style>\n",
       "<table border=\"1\" class=\"dataframe\">\n",
       "  <thead>\n",
       "    <tr style=\"text-align: right;\">\n",
       "      <th></th>\n",
       "      <th>Team</th>\n",
       "      <th>Matches</th>\n",
       "      <th>Points</th>\n",
       "      <th>Rating</th>\n",
       "    </tr>\n",
       "  </thead>\n",
       "  <tbody>\n",
       "    <tr>\n",
       "      <th>0</th>\n",
       "      <td>Australia</td>\n",
       "      <td>21</td>\n",
       "      <td>3,379</td>\n",
       "      <td>161               ...</td>\n",
       "    </tr>\n",
       "    <tr>\n",
       "      <th>1</th>\n",
       "      <td>England</td>\n",
       "      <td>25</td>\n",
       "      <td>2,983</td>\n",
       "      <td>119</td>\n",
       "    </tr>\n",
       "    <tr>\n",
       "      <th>2</th>\n",
       "      <td>South Africa</td>\n",
       "      <td>29</td>\n",
       "      <td>3,390</td>\n",
       "      <td>117</td>\n",
       "    </tr>\n",
       "    <tr>\n",
       "      <th>3</th>\n",
       "      <td>India</td>\n",
       "      <td>26</td>\n",
       "      <td>2,934</td>\n",
       "      <td>113</td>\n",
       "    </tr>\n",
       "    <tr>\n",
       "      <th>4</th>\n",
       "      <td>New Zealand</td>\n",
       "      <td>26</td>\n",
       "      <td>2,392</td>\n",
       "      <td>92</td>\n",
       "    </tr>\n",
       "    <tr>\n",
       "      <th>5</th>\n",
       "      <td>West Indies</td>\n",
       "      <td>22</td>\n",
       "      <td>1,872</td>\n",
       "      <td>85</td>\n",
       "    </tr>\n",
       "    <tr>\n",
       "      <th>6</th>\n",
       "      <td>Pakistan</td>\n",
       "      <td>20</td>\n",
       "      <td>1,496</td>\n",
       "      <td>75</td>\n",
       "    </tr>\n",
       "    <tr>\n",
       "      <th>7</th>\n",
       "      <td>Bangladesh</td>\n",
       "      <td>5</td>\n",
       "      <td>306</td>\n",
       "      <td>61</td>\n",
       "    </tr>\n",
       "    <tr>\n",
       "      <th>8</th>\n",
       "      <td>Sri Lanka</td>\n",
       "      <td>11</td>\n",
       "      <td>519</td>\n",
       "      <td>47</td>\n",
       "    </tr>\n",
       "    <tr>\n",
       "      <th>9</th>\n",
       "      <td>Ireland</td>\n",
       "      <td>2</td>\n",
       "      <td>25</td>\n",
       "      <td>13</td>\n",
       "    </tr>\n",
       "  </tbody>\n",
       "</table>\n",
       "</div>"
      ],
      "text/plain": [
       "           Team Matches Points  \\\n",
       "0     Australia      21  3,379   \n",
       "1       England      25  2,983   \n",
       "2  South Africa      29  3,390   \n",
       "3         India      26  2,934   \n",
       "4   New Zealand      26  2,392   \n",
       "5   West Indies      22  1,872   \n",
       "6      Pakistan      20  1,496   \n",
       "7    Bangladesh       5    306   \n",
       "8     Sri Lanka      11    519   \n",
       "9       Ireland       2     25   \n",
       "\n",
       "                                              Rating  \n",
       "0                              161               ...  \n",
       "1                                                119  \n",
       "2                                                117  \n",
       "3                                                113  \n",
       "4                                                 92  \n",
       "5                                                 85  \n",
       "6                                                 75  \n",
       "7                                                 61  \n",
       "8                                                 47  \n",
       "9                                                 13  "
      ]
     },
     "execution_count": 29,
     "metadata": {},
     "output_type": "execute_result"
    }
   ],
   "source": [
    "import pandas as pd\n",
    "odi_Top10_Women_teams = pd.DataFrame(Top_ODI)\n",
    "odi_Top10_Women_teams"
   ]
  },
  {
   "cell_type": "code",
   "execution_count": null,
   "id": "32b355a5",
   "metadata": {},
   "outputs": [],
   "source": []
  }
 ],
 "metadata": {
  "kernelspec": {
   "display_name": "Python 3",
   "language": "python",
   "name": "python3"
  },
  "language_info": {
   "codemirror_mode": {
    "name": "ipython",
    "version": 3
   },
   "file_extension": ".py",
   "mimetype": "text/x-python",
   "name": "python",
   "nbconvert_exporter": "python",
   "pygments_lexer": "ipython3",
   "version": "3.8.8"
  }
 },
 "nbformat": 4,
 "nbformat_minor": 5
}
