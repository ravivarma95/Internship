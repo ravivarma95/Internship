{
 "cells": [
  {
   "cell_type": "code",
   "execution_count": null,
   "id": "c51818b8",
   "metadata": {},
   "outputs": [],
   "source": [
    "!pip install bs4\n",
    "!pip install requests"
   ]
  },
  {
   "cell_type": "code",
   "execution_count": 1,
   "id": "bbed78af",
   "metadata": {},
   "outputs": [],
   "source": [
    "from bs4 import BeautifulSoup\n",
    "import requests"
   ]
  },
  {
   "cell_type": "code",
   "execution_count": 52,
   "id": "e1c5d6ed",
   "metadata": {},
   "outputs": [],
   "source": [
    "Page = requests.get('https://www.icc-cricket.com/rankings/mens/team-rankings/odi')"
   ]
  },
  {
   "cell_type": "code",
   "execution_count": 53,
   "id": "f74315e7",
   "metadata": {},
   "outputs": [],
   "source": [
    "soup = BeautifulSoup(Page.content)"
   ]
  },
  {
   "cell_type": "code",
   "execution_count": 60,
   "id": "dbf2b43e",
   "metadata": {},
   "outputs": [
    {
     "data": {
      "text/plain": [
       "<Response [200]>"
      ]
     },
     "execution_count": 60,
     "metadata": {},
     "output_type": "execute_result"
    }
   ],
   "source": [
    "Page"
   ]
  },
  {
   "cell_type": "code",
   "execution_count": null,
   "id": "ce5038b4",
   "metadata": {
    "scrolled": false
   },
   "outputs": [],
   "source": [
    "soup"
   ]
  },
  {
   "cell_type": "code",
   "execution_count": 66,
   "id": "9ea37c0c",
   "metadata": {},
   "outputs": [
    {
     "data": {
      "text/plain": [
       "[<span class=\"u-hide-phablet\">New Zealand</span>,\n",
       " <span class=\"u-hide-phablet\">England</span>,\n",
       " <span class=\"u-hide-phablet\">Australia</span>,\n",
       " <span class=\"u-hide-phablet\">India</span>,\n",
       " <span class=\"u-hide-phablet\">South Africa</span>,\n",
       " <span class=\"u-hide-phablet\">Pakistan</span>,\n",
       " <span class=\"u-hide-phablet\">Bangladesh</span>,\n",
       " <span class=\"u-hide-phablet\">West Indies</span>,\n",
       " <span class=\"u-hide-phablet\">Sri Lanka</span>,\n",
       " <span class=\"u-hide-phablet\">Afghanistan</span>]"
      ]
     },
     "execution_count": 66,
     "metadata": {},
     "output_type": "execute_result"
    }
   ],
   "source": [
    "Top_Teams= soup.find_all('span', class_=\"u-hide-phablet\")\n",
    "Top_Teams = Top_Teams[0:10]\n",
    "Top_Teams"
   ]
  },
  {
   "cell_type": "code",
   "execution_count": 182,
   "id": "1a9fdbcb",
   "metadata": {},
   "outputs": [
    {
     "data": {
      "text/plain": [
       "['New Zealand',\n",
       " 'England',\n",
       " 'Australia',\n",
       " 'India',\n",
       " 'South Africa',\n",
       " 'Pakistan',\n",
       " 'Bangladesh',\n",
       " 'West Indies',\n",
       " 'Sri Lanka',\n",
       " 'Afghanistan']"
      ]
     },
     "execution_count": 182,
     "metadata": {},
     "output_type": "execute_result"
    }
   ],
   "source": [
    "Top10_Teams = []\n",
    "for i in Top_Teams:\n",
    "    Top10_Teams.append(i.text)\n",
    "Top10_Teams  "
   ]
  },
  {
   "cell_type": "code",
   "execution_count": 115,
   "id": "2c3e3948",
   "metadata": {},
   "outputs": [
    {
     "data": {
      "text/plain": [
       "[<td class=\"rankings-block__banner--matches\">17</td>]"
      ]
     },
     "execution_count": 115,
     "metadata": {},
     "output_type": "execute_result"
    }
   ],
   "source": [
    "r1_Matches = soup.find_all('td', class_=\"rankings-block__banner--matches\")\n",
    "r1_Matches"
   ]
  },
  {
   "cell_type": "code",
   "execution_count": 116,
   "id": "b0381933",
   "metadata": {},
   "outputs": [
    {
     "data": {
      "text/plain": [
       "['17']"
      ]
     },
     "execution_count": 116,
     "metadata": {},
     "output_type": "execute_result"
    }
   ],
   "source": [
    "row1_Matches=[] \n",
    "for i in r1_Matches:\n",
    "    row1_Matches.append(i.text.replace('\\n',''))\n",
    "row1_Matches"
   ]
  },
  {
   "cell_type": "code",
   "execution_count": 117,
   "id": "2b02060e",
   "metadata": {},
   "outputs": [
    {
     "data": {
      "text/plain": [
       "[<td class=\"table-body__cell u-center-text\">32</td>,\n",
       " <td class=\"table-body__cell u-center-text\">3,793</td>,\n",
       " <td class=\"table-body__cell u-center-text\">28</td>,\n",
       " <td class=\"table-body__cell u-center-text\">3,244</td>,\n",
       " <td class=\"table-body__cell u-center-text\">32</td>,\n",
       " <td class=\"table-body__cell u-center-text\">3,624</td>,\n",
       " <td class=\"table-body__cell u-center-text\">25</td>,\n",
       " <td class=\"table-body__cell u-center-text\">2,459</td>,\n",
       " <td class=\"table-body__cell u-center-text\">27</td>,\n",
       " <td class=\"table-body__cell u-center-text\">2,524</td>,\n",
       " <td class=\"table-body__cell u-center-text\">30</td>,\n",
       " <td class=\"table-body__cell u-center-text\">2,740</td>,\n",
       " <td class=\"table-body__cell u-center-text\">30</td>,\n",
       " <td class=\"table-body__cell u-center-text\">2,523</td>,\n",
       " <td class=\"table-body__cell u-center-text\">32</td>,\n",
       " <td class=\"table-body__cell u-center-text\">2,657</td>,\n",
       " <td class=\"table-body__cell u-center-text\">17</td>,\n",
       " <td class=\"table-body__cell u-center-text\">1,054</td>,\n",
       " <td class=\"table-body__cell u-center-text\">7</td>,\n",
       " <td class=\"table-body__cell u-center-text\">336</td>,\n",
       " <td class=\"table-body__cell u-center-text\">25</td>,\n",
       " <td class=\"table-body__cell u-center-text\">1,145</td>,\n",
       " <td class=\"table-body__cell u-center-text\">10</td>,\n",
       " <td class=\"table-body__cell u-center-text\">452</td>,\n",
       " <td class=\"table-body__cell u-center-text\">20</td>,\n",
       " <td class=\"table-body__cell u-center-text\">764</td>,\n",
       " <td class=\"table-body__cell u-center-text\">14</td>,\n",
       " <td class=\"table-body__cell u-center-text\">524</td>,\n",
       " <td class=\"table-body__cell u-center-text\">11</td>,\n",
       " <td class=\"table-body__cell u-center-text\">330</td>,\n",
       " <td class=\"table-body__cell u-center-text\">9</td>,\n",
       " <td class=\"table-body__cell u-center-text\">190</td>,\n",
       " <td class=\"table-body__cell u-center-text\">14</td>,\n",
       " <td class=\"table-body__cell u-center-text\">232</td>,\n",
       " <td class=\"table-body__cell u-center-text\">6</td>,\n",
       " <td class=\"table-body__cell u-center-text\">97</td>,\n",
       " <td class=\"table-body__cell u-center-text\">13</td>,\n",
       " <td class=\"table-body__cell u-center-text\">0</td>]"
      ]
     },
     "execution_count": 117,
     "metadata": {},
     "output_type": "execute_result"
    }
   ],
   "source": [
    "r2_Matches = soup.find_all('td', class_=\"table-body__cell u-center-text\")\n",
    "r2_Matches"
   ]
  },
  {
   "cell_type": "code",
   "execution_count": 119,
   "id": "cf557dd5",
   "metadata": {},
   "outputs": [
    {
     "data": {
      "text/plain": [
       "['32',\n",
       " '28',\n",
       " '32',\n",
       " '25',\n",
       " '27',\n",
       " '30',\n",
       " '30',\n",
       " '32',\n",
       " '17',\n",
       " '7',\n",
       " '25',\n",
       " '10',\n",
       " '20',\n",
       " '14',\n",
       " '11',\n",
       " '9',\n",
       " '14',\n",
       " '6',\n",
       " '13']"
      ]
     },
     "execution_count": 119,
     "metadata": {},
     "output_type": "execute_result"
    }
   ],
   "source": [
    "row2_Matches=[] \n",
    "for i in range(0,len(r2_Matches),2):\n",
    "    row2_Matches.append(r2_Matches[i].text)\n",
    "row2_Matches \n"
   ]
  },
  {
   "cell_type": "code",
   "execution_count": 183,
   "id": "da2998cf",
   "metadata": {},
   "outputs": [
    {
     "data": {
      "text/plain": [
       "['17', '32', '28', '32', '25', '27', '30', '30', '32', '17']"
      ]
     },
     "execution_count": 183,
     "metadata": {},
     "output_type": "execute_result"
    }
   ],
   "source": [
    "Top10_Matches = row1_Matches + row2_Matches[0:9]\n",
    "Top10_Matches"
   ]
  },
  {
   "cell_type": "code",
   "execution_count": 139,
   "id": "1a42d09d",
   "metadata": {},
   "outputs": [
    {
     "data": {
      "text/plain": [
       "[<td class=\"rankings-block__banner--points\">2,054</td>]"
      ]
     },
     "execution_count": 139,
     "metadata": {},
     "output_type": "execute_result"
    }
   ],
   "source": [
    "r1_Points = soup.find_all('td', class_=\"rankings-block__banner--points\")\n",
    "r1_Points"
   ]
  },
  {
   "cell_type": "code",
   "execution_count": 140,
   "id": "2dfc4894",
   "metadata": {},
   "outputs": [
    {
     "data": {
      "text/plain": [
       "['2,054']"
      ]
     },
     "execution_count": 140,
     "metadata": {},
     "output_type": "execute_result"
    }
   ],
   "source": [
    "row1_Points=[] \n",
    "for i in r1_Points:\n",
    "    row1_Points.append(i.text.replace('\\n',''))\n",
    "row1_Points"
   ]
  },
  {
   "cell_type": "code",
   "execution_count": 142,
   "id": "a7bf3c14",
   "metadata": {},
   "outputs": [
    {
     "data": {
      "text/plain": [
       "[<td class=\"table-body__cell u-center-text\">32</td>,\n",
       " <td class=\"table-body__cell u-center-text\">3,793</td>,\n",
       " <td class=\"table-body__cell u-center-text\">28</td>,\n",
       " <td class=\"table-body__cell u-center-text\">3,244</td>,\n",
       " <td class=\"table-body__cell u-center-text\">32</td>,\n",
       " <td class=\"table-body__cell u-center-text\">3,624</td>,\n",
       " <td class=\"table-body__cell u-center-text\">25</td>,\n",
       " <td class=\"table-body__cell u-center-text\">2,459</td>,\n",
       " <td class=\"table-body__cell u-center-text\">27</td>,\n",
       " <td class=\"table-body__cell u-center-text\">2,524</td>,\n",
       " <td class=\"table-body__cell u-center-text\">30</td>,\n",
       " <td class=\"table-body__cell u-center-text\">2,740</td>,\n",
       " <td class=\"table-body__cell u-center-text\">30</td>,\n",
       " <td class=\"table-body__cell u-center-text\">2,523</td>,\n",
       " <td class=\"table-body__cell u-center-text\">32</td>,\n",
       " <td class=\"table-body__cell u-center-text\">2,657</td>,\n",
       " <td class=\"table-body__cell u-center-text\">17</td>,\n",
       " <td class=\"table-body__cell u-center-text\">1,054</td>,\n",
       " <td class=\"table-body__cell u-center-text\">7</td>,\n",
       " <td class=\"table-body__cell u-center-text\">336</td>,\n",
       " <td class=\"table-body__cell u-center-text\">25</td>,\n",
       " <td class=\"table-body__cell u-center-text\">1,145</td>,\n",
       " <td class=\"table-body__cell u-center-text\">10</td>,\n",
       " <td class=\"table-body__cell u-center-text\">452</td>,\n",
       " <td class=\"table-body__cell u-center-text\">20</td>,\n",
       " <td class=\"table-body__cell u-center-text\">764</td>,\n",
       " <td class=\"table-body__cell u-center-text\">14</td>,\n",
       " <td class=\"table-body__cell u-center-text\">524</td>,\n",
       " <td class=\"table-body__cell u-center-text\">11</td>,\n",
       " <td class=\"table-body__cell u-center-text\">330</td>,\n",
       " <td class=\"table-body__cell u-center-text\">9</td>,\n",
       " <td class=\"table-body__cell u-center-text\">190</td>,\n",
       " <td class=\"table-body__cell u-center-text\">14</td>,\n",
       " <td class=\"table-body__cell u-center-text\">232</td>,\n",
       " <td class=\"table-body__cell u-center-text\">6</td>,\n",
       " <td class=\"table-body__cell u-center-text\">97</td>,\n",
       " <td class=\"table-body__cell u-center-text\">13</td>,\n",
       " <td class=\"table-body__cell u-center-text\">0</td>]"
      ]
     },
     "execution_count": 142,
     "metadata": {},
     "output_type": "execute_result"
    }
   ],
   "source": [
    "r2_Points = soup.find_all('td', class_=\"table-body__cell u-center-text\")\n",
    "r2_Points"
   ]
  },
  {
   "cell_type": "code",
   "execution_count": 145,
   "id": "9d9073a8",
   "metadata": {},
   "outputs": [
    {
     "data": {
      "text/plain": [
       "['3,793',\n",
       " '3,244',\n",
       " '3,624',\n",
       " '2,459',\n",
       " '2,524',\n",
       " '2,740',\n",
       " '2,523',\n",
       " '2,657',\n",
       " '1,054',\n",
       " '336',\n",
       " '1,145',\n",
       " '452',\n",
       " '764',\n",
       " '524',\n",
       " '330',\n",
       " '190',\n",
       " '232',\n",
       " '97',\n",
       " '0']"
      ]
     },
     "execution_count": 145,
     "metadata": {},
     "output_type": "execute_result"
    }
   ],
   "source": [
    "row2_Points=[] \n",
    "for i in range(1,len(r2_Points),2):\n",
    "    row2_Points.append(r2_Points[i].text)\n",
    "row2_Points"
   ]
  },
  {
   "cell_type": "code",
   "execution_count": 149,
   "id": "7654f944",
   "metadata": {},
   "outputs": [],
   "source": [
    "Top10_points = row1_Points + row2_Points[0:9]"
   ]
  },
  {
   "cell_type": "code",
   "execution_count": 184,
   "id": "fb199944",
   "metadata": {},
   "outputs": [
    {
     "data": {
      "text/plain": [
       "['2,054',\n",
       " '3,793',\n",
       " '3,244',\n",
       " '3,624',\n",
       " '2,459',\n",
       " '2,524',\n",
       " '2,740',\n",
       " '2,523',\n",
       " '2,657',\n",
       " '1,054']"
      ]
     },
     "execution_count": 184,
     "metadata": {},
     "output_type": "execute_result"
    }
   ],
   "source": [
    "Top10_points"
   ]
  },
  {
   "cell_type": "code",
   "execution_count": 152,
   "id": "16c659d2",
   "metadata": {},
   "outputs": [
    {
     "data": {
      "text/plain": [
       "[<td class=\"rankings-block__banner--rating u-text-right\">\n",
       "                             121\n",
       "                             <span class=\"circle-branding circle-branding--top\"></span>\n",
       " <span class=\"circle-branding circle-branding--bottom\"></span>\n",
       " </td>]"
      ]
     },
     "execution_count": 152,
     "metadata": {},
     "output_type": "execute_result"
    }
   ],
   "source": [
    "r1_Rating = soup.find_all('td', class_=\"rankings-block__banner--rating u-text-right\")\n",
    "r1_Rating"
   ]
  },
  {
   "cell_type": "code",
   "execution_count": 153,
   "id": "5ab84b57",
   "metadata": {},
   "outputs": [
    {
     "data": {
      "text/plain": [
       "['                            121                            ']"
      ]
     },
     "execution_count": 153,
     "metadata": {},
     "output_type": "execute_result"
    }
   ],
   "source": [
    "row1_Rating=[] \n",
    "for i in r1_Rating:\n",
    "    row1_Rating.append(i.text.replace('\\n',''))\n",
    "row1_Rating"
   ]
  },
  {
   "cell_type": "code",
   "execution_count": 154,
   "id": "a1957a78",
   "metadata": {},
   "outputs": [
    {
     "data": {
      "text/plain": [
       "[<td class=\"table-body__cell u-text-right rating\">119</td>,\n",
       " <td class=\"table-body__cell u-text-right rating\">116</td>,\n",
       " <td class=\"table-body__cell u-text-right rating\">113</td>,\n",
       " <td class=\"table-body__cell u-text-right rating\">98</td>,\n",
       " <td class=\"table-body__cell u-text-right rating\">93</td>,\n",
       " <td class=\"table-body__cell u-text-right rating\">91</td>,\n",
       " <td class=\"table-body__cell u-text-right rating\">84</td>,\n",
       " <td class=\"table-body__cell u-text-right rating\">83</td>,\n",
       " <td class=\"table-body__cell u-text-right rating\">62</td>,\n",
       " <td class=\"table-body__cell u-text-right rating\">48</td>,\n",
       " <td class=\"table-body__cell u-text-right rating\">46</td>,\n",
       " <td class=\"table-body__cell u-text-right rating\">45</td>,\n",
       " <td class=\"table-body__cell u-text-right rating\">38</td>,\n",
       " <td class=\"table-body__cell u-text-right rating\">37</td>,\n",
       " <td class=\"table-body__cell u-text-right rating\">30</td>,\n",
       " <td class=\"table-body__cell u-text-right rating\">21</td>,\n",
       " <td class=\"table-body__cell u-text-right rating\">17</td>,\n",
       " <td class=\"table-body__cell u-text-right rating\">16</td>,\n",
       " <td class=\"table-body__cell u-text-right rating\">0</td>]"
      ]
     },
     "execution_count": 154,
     "metadata": {},
     "output_type": "execute_result"
    }
   ],
   "source": [
    "r2_Rating = soup.find_all('td', class_=\"table-body__cell u-text-right rating\")\n",
    "r2_Rating"
   ]
  },
  {
   "cell_type": "code",
   "execution_count": 155,
   "id": "e5f563f7",
   "metadata": {},
   "outputs": [
    {
     "data": {
      "text/plain": [
       "['119',\n",
       " '116',\n",
       " '113',\n",
       " '98',\n",
       " '93',\n",
       " '91',\n",
       " '84',\n",
       " '83',\n",
       " '62',\n",
       " '48',\n",
       " '46',\n",
       " '45',\n",
       " '38',\n",
       " '37',\n",
       " '30',\n",
       " '21',\n",
       " '17',\n",
       " '16',\n",
       " '0']"
      ]
     },
     "execution_count": 155,
     "metadata": {},
     "output_type": "execute_result"
    }
   ],
   "source": [
    "row2_Rating=[] \n",
    "for i in r2_Rating:\n",
    "    row2_Rating.append(i.text.replace('\\n',''))\n",
    "row2_Rating"
   ]
  },
  {
   "cell_type": "code",
   "execution_count": 169,
   "id": "2e697c52",
   "metadata": {},
   "outputs": [],
   "source": [
    "Top10_Rating = row1_Rating + row2_Rating[0:9]"
   ]
  },
  {
   "cell_type": "code",
   "execution_count": 185,
   "id": "91c0c573",
   "metadata": {},
   "outputs": [
    {
     "data": {
      "text/plain": [
       "['                            121                            ',\n",
       " '119',\n",
       " '116',\n",
       " '113',\n",
       " '98',\n",
       " '93',\n",
       " '91',\n",
       " '84',\n",
       " '83',\n",
       " '62']"
      ]
     },
     "execution_count": 185,
     "metadata": {},
     "output_type": "execute_result"
    }
   ],
   "source": [
    "Top10_Rating"
   ]
  },
  {
   "cell_type": "code",
   "execution_count": 188,
   "id": "86dbcbae",
   "metadata": {},
   "outputs": [],
   "source": [
    "Top_ODI = {'Team':Top10_Teams, 'Matches':Top10_Matches, 'Points':Top10_points, 'Rating':Top10_Rating}"
   ]
  },
  {
   "cell_type": "code",
   "execution_count": 191,
   "id": "66fb43bf",
   "metadata": {},
   "outputs": [
    {
     "data": {
      "text/html": [
       "<div>\n",
       "<style scoped>\n",
       "    .dataframe tbody tr th:only-of-type {\n",
       "        vertical-align: middle;\n",
       "    }\n",
       "\n",
       "    .dataframe tbody tr th {\n",
       "        vertical-align: top;\n",
       "    }\n",
       "\n",
       "    .dataframe thead th {\n",
       "        text-align: right;\n",
       "    }\n",
       "</style>\n",
       "<table border=\"1\" class=\"dataframe\">\n",
       "  <thead>\n",
       "    <tr style=\"text-align: right;\">\n",
       "      <th></th>\n",
       "      <th>Team</th>\n",
       "      <th>Matches</th>\n",
       "      <th>Points</th>\n",
       "      <th>Rating</th>\n",
       "    </tr>\n",
       "  </thead>\n",
       "  <tbody>\n",
       "    <tr>\n",
       "      <th>0</th>\n",
       "      <td>New Zealand</td>\n",
       "      <td>17</td>\n",
       "      <td>2,054</td>\n",
       "      <td>121               ...</td>\n",
       "    </tr>\n",
       "    <tr>\n",
       "      <th>1</th>\n",
       "      <td>England</td>\n",
       "      <td>32</td>\n",
       "      <td>3,793</td>\n",
       "      <td>119</td>\n",
       "    </tr>\n",
       "    <tr>\n",
       "      <th>2</th>\n",
       "      <td>Australia</td>\n",
       "      <td>28</td>\n",
       "      <td>3,244</td>\n",
       "      <td>116</td>\n",
       "    </tr>\n",
       "    <tr>\n",
       "      <th>3</th>\n",
       "      <td>India</td>\n",
       "      <td>32</td>\n",
       "      <td>3,624</td>\n",
       "      <td>113</td>\n",
       "    </tr>\n",
       "    <tr>\n",
       "      <th>4</th>\n",
       "      <td>South Africa</td>\n",
       "      <td>25</td>\n",
       "      <td>2,459</td>\n",
       "      <td>98</td>\n",
       "    </tr>\n",
       "    <tr>\n",
       "      <th>5</th>\n",
       "      <td>Pakistan</td>\n",
       "      <td>27</td>\n",
       "      <td>2,524</td>\n",
       "      <td>93</td>\n",
       "    </tr>\n",
       "    <tr>\n",
       "      <th>6</th>\n",
       "      <td>Bangladesh</td>\n",
       "      <td>30</td>\n",
       "      <td>2,740</td>\n",
       "      <td>91</td>\n",
       "    </tr>\n",
       "    <tr>\n",
       "      <th>7</th>\n",
       "      <td>West Indies</td>\n",
       "      <td>30</td>\n",
       "      <td>2,523</td>\n",
       "      <td>84</td>\n",
       "    </tr>\n",
       "    <tr>\n",
       "      <th>8</th>\n",
       "      <td>Sri Lanka</td>\n",
       "      <td>32</td>\n",
       "      <td>2,657</td>\n",
       "      <td>83</td>\n",
       "    </tr>\n",
       "    <tr>\n",
       "      <th>9</th>\n",
       "      <td>Afghanistan</td>\n",
       "      <td>17</td>\n",
       "      <td>1,054</td>\n",
       "      <td>62</td>\n",
       "    </tr>\n",
       "  </tbody>\n",
       "</table>\n",
       "</div>"
      ],
      "text/plain": [
       "           Team Matches Points  \\\n",
       "0   New Zealand      17  2,054   \n",
       "1       England      32  3,793   \n",
       "2     Australia      28  3,244   \n",
       "3         India      32  3,624   \n",
       "4  South Africa      25  2,459   \n",
       "5      Pakistan      27  2,524   \n",
       "6    Bangladesh      30  2,740   \n",
       "7   West Indies      30  2,523   \n",
       "8     Sri Lanka      32  2,657   \n",
       "9   Afghanistan      17  1,054   \n",
       "\n",
       "                                              Rating  \n",
       "0                              121               ...  \n",
       "1                                                119  \n",
       "2                                                116  \n",
       "3                                                113  \n",
       "4                                                 98  \n",
       "5                                                 93  \n",
       "6                                                 91  \n",
       "7                                                 84  \n",
       "8                                                 83  \n",
       "9                                                 62  "
      ]
     },
     "execution_count": 191,
     "metadata": {},
     "output_type": "execute_result"
    }
   ],
   "source": [
    "import pandas as pd\n",
    "odi_Top10_teams = pd.DataFrame(Top_ODI)\n",
    "odi_Top10_teams"
   ]
  },
  {
   "cell_type": "code",
   "execution_count": null,
   "id": "32b355a5",
   "metadata": {},
   "outputs": [],
   "source": []
  }
 ],
 "metadata": {
  "kernelspec": {
   "display_name": "Python 3",
   "language": "python",
   "name": "python3"
  },
  "language_info": {
   "codemirror_mode": {
    "name": "ipython",
    "version": 3
   },
   "file_extension": ".py",
   "mimetype": "text/x-python",
   "name": "python",
   "nbconvert_exporter": "python",
   "pygments_lexer": "ipython3",
   "version": "3.8.8"
  }
 },
 "nbformat": 4,
 "nbformat_minor": 5
}
