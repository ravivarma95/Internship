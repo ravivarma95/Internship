{
 "cells": [
  {
   "cell_type": "code",
   "execution_count": null,
   "id": "6c32b603",
   "metadata": {},
   "outputs": [],
   "source": [
    "!pip install bs4\n",
    "!pip install requests"
   ]
  },
  {
   "cell_type": "code",
   "execution_count": 1,
   "id": "866edb22",
   "metadata": {},
   "outputs": [],
   "source": [
    "from bs4 import BeautifulSoup\n",
    "import requests"
   ]
  },
  {
   "cell_type": "code",
   "execution_count": 202,
   "id": "91c68d09",
   "metadata": {},
   "outputs": [],
   "source": [
    "Page = requests.get('https://www.icc-cricket.com/rankings/mens/player-rankings/odi/batting')"
   ]
  },
  {
   "cell_type": "code",
   "execution_count": 203,
   "id": "2e1c44f2",
   "metadata": {},
   "outputs": [],
   "source": [
    "soup = BeautifulSoup(Page.content)"
   ]
  },
  {
   "cell_type": "code",
   "execution_count": null,
   "id": "2a973ef5",
   "metadata": {
    "scrolled": false
   },
   "outputs": [],
   "source": [
    "soup"
   ]
  },
  {
   "cell_type": "code",
   "execution_count": 207,
   "id": "b11e897c",
   "metadata": {},
   "outputs": [
    {
     "data": {
      "text/plain": [
       "[<div class=\"rankings-block__banner--name-large\">Babar Azam</div>]"
      ]
     },
     "execution_count": 207,
     "metadata": {},
     "output_type": "execute_result"
    }
   ],
   "source": [
    "r1_Player = soup.find_all('div', class_=\"rankings-block__banner--name-large\")\n",
    "r1_Player"
   ]
  },
  {
   "cell_type": "code",
   "execution_count": 208,
   "id": "f293d5c9",
   "metadata": {},
   "outputs": [
    {
     "data": {
      "text/plain": [
       "['Babar Azam']"
      ]
     },
     "execution_count": 208,
     "metadata": {},
     "output_type": "execute_result"
    }
   ],
   "source": [
    "row1_Player=[] \n",
    "for i in r1_Player:\n",
    "    row1_Player.append(i.text.replace('\\n',''))\n",
    "row1_Player"
   ]
  },
  {
   "cell_type": "code",
   "execution_count": 253,
   "id": "fc4ce561",
   "metadata": {},
   "outputs": [
    {
     "data": {
      "text/plain": [
       "[<td class=\"table-body__cell rankings-table__name name\">\n",
       " <a href=\"/rankings/mens/player-rankings/164\">Virat Kohli</a>\n",
       " </td>,\n",
       " <td class=\"table-body__cell rankings-table__name name\">\n",
       " <a href=\"/rankings/mens/player-rankings/107\">Rohit Sharma</a>\n",
       " </td>,\n",
       " <td class=\"table-body__cell rankings-table__name name\">\n",
       " <a href=\"/rankings/mens/player-rankings/226\">Ross Taylor</a>\n",
       " </td>,\n",
       " <td class=\"table-body__cell rankings-table__name name\">\n",
       " <a href=\"/rankings/mens/player-rankings/167\">Aaron Finch</a>\n",
       " </td>,\n",
       " <td class=\"table-body__cell rankings-table__name name\">\n",
       " <a href=\"/rankings/mens/player-rankings/506\">Jonny Bairstow</a>\n",
       " </td>]"
      ]
     },
     "execution_count": 253,
     "metadata": {},
     "output_type": "execute_result"
    }
   ],
   "source": [
    "r2_Player = soup.find_all('td', class_=\"table-body__cell rankings-table__name name\")\n",
    "r2_Player[0:5]"
   ]
  },
  {
   "cell_type": "code",
   "execution_count": 254,
   "id": "8d729f07",
   "metadata": {},
   "outputs": [
    {
     "data": {
      "text/plain": [
       "['Virat Kohli', 'Rohit Sharma', 'Ross Taylor', 'Aaron Finch', 'Jonny Bairstow']"
      ]
     },
     "execution_count": 254,
     "metadata": {},
     "output_type": "execute_result"
    }
   ],
   "source": [
    "row2_Player=[] \n",
    "for i in r2_Player:\n",
    "    row2_Player.append(i.text.replace('\\n',''))\n",
    "row2_Player [0:5]\n"
   ]
  },
  {
   "cell_type": "code",
   "execution_count": 211,
   "id": "aa54b756",
   "metadata": {},
   "outputs": [
    {
     "data": {
      "text/plain": [
       "['Babar Azam',\n",
       " 'Virat Kohli',\n",
       " 'Rohit Sharma',\n",
       " 'Ross Taylor',\n",
       " 'Aaron Finch',\n",
       " 'Jonny Bairstow',\n",
       " 'David Warner',\n",
       " 'Shai Hope',\n",
       " 'Kane Williamson',\n",
       " 'Quinton de Kock']"
      ]
     },
     "execution_count": 211,
     "metadata": {},
     "output_type": "execute_result"
    }
   ],
   "source": [
    "Top10_Player = row1_Player + row2_Player[0:9]\n",
    "Top10_Player"
   ]
  },
  {
   "cell_type": "code",
   "execution_count": 226,
   "id": "55a2793a",
   "metadata": {},
   "outputs": [
    {
     "data": {
      "text/plain": [
       "[<div class=\"rankings-block__banner--nationality\">\n",
       " <div class=\"flag-15 PAK\"></div>\n",
       " <span class=\"rankings-block__banner--nation\"></span>PAK\n",
       "                     </div>]"
      ]
     },
     "execution_count": 226,
     "metadata": {},
     "output_type": "execute_result"
    }
   ],
   "source": [
    "r1_Team = soup.find_all('div', class_=\"rankings-block__banner--nationality\")\n",
    "r1_Team"
   ]
  },
  {
   "cell_type": "code",
   "execution_count": 227,
   "id": "a1509852",
   "metadata": {},
   "outputs": [
    {
     "data": {
      "text/plain": [
       "['PAK                    ']"
      ]
     },
     "execution_count": 227,
     "metadata": {},
     "output_type": "execute_result"
    }
   ],
   "source": [
    "row1_Team=[] \n",
    "for i in r1_Team:\n",
    "    row1_Team.append(i.text.replace('\\n',''))\n",
    "row1_Team"
   ]
  },
  {
   "cell_type": "code",
   "execution_count": 249,
   "id": "909e3318",
   "metadata": {},
   "outputs": [
    {
     "data": {
      "text/plain": [
       "[<span class=\"table-body__logo-text\">IND</span>,\n",
       " <span class=\"table-body__logo-text\">IND</span>,\n",
       " <span class=\"table-body__logo-text\">NZ</span>,\n",
       " <span class=\"table-body__logo-text\">AUS</span>,\n",
       " <span class=\"table-body__logo-text\">ENG</span>]"
      ]
     },
     "execution_count": 249,
     "metadata": {},
     "output_type": "execute_result"
    }
   ],
   "source": [
    "r2_Team = soup.find_all('span', class_=\"table-body__logo-text\")\n",
    "r2_Team[0:5]"
   ]
  },
  {
   "cell_type": "code",
   "execution_count": 250,
   "id": "8a447f55",
   "metadata": {},
   "outputs": [
    {
     "data": {
      "text/plain": [
       "['IND', 'IND', 'NZ', 'AUS', 'ENG']"
      ]
     },
     "execution_count": 250,
     "metadata": {},
     "output_type": "execute_result"
    }
   ],
   "source": [
    "row2_Team=[] \n",
    "for i in r2_Team:\n",
    "    row2_Team.append(i.text.replace('\\n',''))\n",
    "row2_Team[0:5]"
   ]
  },
  {
   "cell_type": "code",
   "execution_count": 233,
   "id": "ca7b48be",
   "metadata": {},
   "outputs": [],
   "source": [
    "Top10_Team = row1_Team + row2_Team[0:9]"
   ]
  },
  {
   "cell_type": "code",
   "execution_count": 234,
   "id": "72b53760",
   "metadata": {},
   "outputs": [
    {
     "data": {
      "text/plain": [
       "['PAK                    ',\n",
       " 'IND',\n",
       " 'IND',\n",
       " 'NZ',\n",
       " 'AUS',\n",
       " 'ENG',\n",
       " 'AUS',\n",
       " 'WI',\n",
       " 'NZ',\n",
       " 'SA']"
      ]
     },
     "execution_count": 234,
     "metadata": {},
     "output_type": "execute_result"
    }
   ],
   "source": [
    "Top10_Team"
   ]
  },
  {
   "cell_type": "code",
   "execution_count": 235,
   "id": "460618b3",
   "metadata": {},
   "outputs": [
    {
     "data": {
      "text/plain": [
       "[<div class=\"rankings-block__banner--rating\">873</div>]"
      ]
     },
     "execution_count": 235,
     "metadata": {},
     "output_type": "execute_result"
    }
   ],
   "source": [
    "r1_Rating = soup.find_all('div', class_=\"rankings-block__banner--rating\")\n",
    "r1_Rating"
   ]
  },
  {
   "cell_type": "code",
   "execution_count": 236,
   "id": "7fb5df90",
   "metadata": {},
   "outputs": [
    {
     "data": {
      "text/plain": [
       "['873']"
      ]
     },
     "execution_count": 236,
     "metadata": {},
     "output_type": "execute_result"
    }
   ],
   "source": [
    "row1_Rating=[] \n",
    "for i in r1_Rating:\n",
    "    row1_Rating.append(i.text.replace('\\n',''))\n",
    "row1_Rating"
   ]
  },
  {
   "cell_type": "code",
   "execution_count": 251,
   "id": "c594db19",
   "metadata": {},
   "outputs": [
    {
     "data": {
      "text/plain": [
       "[<td class=\"table-body__cell rating\">844</td>,\n",
       " <td class=\"table-body__cell rating\">813</td>,\n",
       " <td class=\"table-body__cell rating\">801</td>,\n",
       " <td class=\"table-body__cell rating\">779</td>,\n",
       " <td class=\"table-body__cell rating\">775</td>]"
      ]
     },
     "execution_count": 251,
     "metadata": {},
     "output_type": "execute_result"
    }
   ],
   "source": [
    "r2_Rating = soup.find_all('td', class_=\"table-body__cell rating\")\n",
    "r2_Rating[0:5]"
   ]
  },
  {
   "cell_type": "code",
   "execution_count": 252,
   "id": "0c526a28",
   "metadata": {},
   "outputs": [
    {
     "data": {
      "text/plain": [
       "['844', '813', '801', '779', '775']"
      ]
     },
     "execution_count": 252,
     "metadata": {},
     "output_type": "execute_result"
    }
   ],
   "source": [
    "row2_Rating=[] \n",
    "for i in r2_Rating:\n",
    "    row2_Rating.append(i.text.replace('\\n',''))\n",
    "row2_Rating[0:5]"
   ]
  },
  {
   "cell_type": "code",
   "execution_count": 239,
   "id": "fa7215df",
   "metadata": {},
   "outputs": [],
   "source": [
    "Top10_Rating = row1_Rating + row2_Rating[0:9]"
   ]
  },
  {
   "cell_type": "code",
   "execution_count": 240,
   "id": "7eeea894",
   "metadata": {},
   "outputs": [
    {
     "data": {
      "text/plain": [
       "['873', '844', '813', '801', '779', '775', '762', '758', '754', '747']"
      ]
     },
     "execution_count": 240,
     "metadata": {},
     "output_type": "execute_result"
    }
   ],
   "source": [
    "Top10_Rating"
   ]
  },
  {
   "cell_type": "code",
   "execution_count": 242,
   "id": "7e45c34a",
   "metadata": {},
   "outputs": [],
   "source": [
    "Top10_Batsmen = {'Player':Top10_Player, 'Team':Top10_Team,'Rating':Top10_Rating}"
   ]
  },
  {
   "cell_type": "code",
   "execution_count": 244,
   "id": "6eb7664c",
   "metadata": {},
   "outputs": [
    {
     "data": {
      "text/html": [
       "<div>\n",
       "<style scoped>\n",
       "    .dataframe tbody tr th:only-of-type {\n",
       "        vertical-align: middle;\n",
       "    }\n",
       "\n",
       "    .dataframe tbody tr th {\n",
       "        vertical-align: top;\n",
       "    }\n",
       "\n",
       "    .dataframe thead th {\n",
       "        text-align: right;\n",
       "    }\n",
       "</style>\n",
       "<table border=\"1\" class=\"dataframe\">\n",
       "  <thead>\n",
       "    <tr style=\"text-align: right;\">\n",
       "      <th></th>\n",
       "      <th>Player</th>\n",
       "      <th>Team</th>\n",
       "      <th>Rating</th>\n",
       "    </tr>\n",
       "  </thead>\n",
       "  <tbody>\n",
       "    <tr>\n",
       "      <th>0</th>\n",
       "      <td>Babar Azam</td>\n",
       "      <td>PAK</td>\n",
       "      <td>873</td>\n",
       "    </tr>\n",
       "    <tr>\n",
       "      <th>1</th>\n",
       "      <td>Virat Kohli</td>\n",
       "      <td>IND</td>\n",
       "      <td>844</td>\n",
       "    </tr>\n",
       "    <tr>\n",
       "      <th>2</th>\n",
       "      <td>Rohit Sharma</td>\n",
       "      <td>IND</td>\n",
       "      <td>813</td>\n",
       "    </tr>\n",
       "    <tr>\n",
       "      <th>3</th>\n",
       "      <td>Ross Taylor</td>\n",
       "      <td>NZ</td>\n",
       "      <td>801</td>\n",
       "    </tr>\n",
       "    <tr>\n",
       "      <th>4</th>\n",
       "      <td>Aaron Finch</td>\n",
       "      <td>AUS</td>\n",
       "      <td>779</td>\n",
       "    </tr>\n",
       "    <tr>\n",
       "      <th>5</th>\n",
       "      <td>Jonny Bairstow</td>\n",
       "      <td>ENG</td>\n",
       "      <td>775</td>\n",
       "    </tr>\n",
       "    <tr>\n",
       "      <th>6</th>\n",
       "      <td>David Warner</td>\n",
       "      <td>AUS</td>\n",
       "      <td>762</td>\n",
       "    </tr>\n",
       "    <tr>\n",
       "      <th>7</th>\n",
       "      <td>Shai Hope</td>\n",
       "      <td>WI</td>\n",
       "      <td>758</td>\n",
       "    </tr>\n",
       "    <tr>\n",
       "      <th>8</th>\n",
       "      <td>Kane Williamson</td>\n",
       "      <td>NZ</td>\n",
       "      <td>754</td>\n",
       "    </tr>\n",
       "    <tr>\n",
       "      <th>9</th>\n",
       "      <td>Quinton de Kock</td>\n",
       "      <td>SA</td>\n",
       "      <td>747</td>\n",
       "    </tr>\n",
       "  </tbody>\n",
       "</table>\n",
       "</div>"
      ],
      "text/plain": [
       "            Player                     Team Rating\n",
       "0       Babar Azam  PAK                        873\n",
       "1      Virat Kohli                      IND    844\n",
       "2     Rohit Sharma                      IND    813\n",
       "3      Ross Taylor                       NZ    801\n",
       "4      Aaron Finch                      AUS    779\n",
       "5   Jonny Bairstow                      ENG    775\n",
       "6     David Warner                      AUS    762\n",
       "7        Shai Hope                       WI    758\n",
       "8  Kane Williamson                       NZ    754\n",
       "9  Quinton de Kock                       SA    747"
      ]
     },
     "execution_count": 244,
     "metadata": {},
     "output_type": "execute_result"
    }
   ],
   "source": [
    "import pandas as pd\n",
    "ODI_Top10_Batsmen = pd.DataFrame(Top10_Batsmen)\n",
    "ODI_Top10_Batsmen"
   ]
  },
  {
   "cell_type": "code",
   "execution_count": null,
   "id": "cb23c86b",
   "metadata": {},
   "outputs": [],
   "source": []
  }
 ],
 "metadata": {
  "kernelspec": {
   "display_name": "Python 3",
   "language": "python",
   "name": "python3"
  },
  "language_info": {
   "codemirror_mode": {
    "name": "ipython",
    "version": 3
   },
   "file_extension": ".py",
   "mimetype": "text/x-python",
   "name": "python",
   "nbconvert_exporter": "python",
   "pygments_lexer": "ipython3",
   "version": "3.8.8"
  }
 },
 "nbformat": 4,
 "nbformat_minor": 5
}
