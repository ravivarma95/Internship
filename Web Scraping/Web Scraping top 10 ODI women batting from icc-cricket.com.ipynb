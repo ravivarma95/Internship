{
 "cells": [
  {
   "cell_type": "code",
   "execution_count": 1,
   "id": "6c32b603",
   "metadata": {},
   "outputs": [
    {
     "name": "stdout",
     "output_type": "stream",
     "text": [
      "Requirement already satisfied: bs4 in c:\\users\\ravi varma landeri\\anaconda3\\lib\\site-packages (0.0.1)\n",
      "Requirement already satisfied: beautifulsoup4 in c:\\users\\ravi varma landeri\\anaconda3\\lib\\site-packages (from bs4) (4.9.3)\n",
      "Requirement already satisfied: soupsieve>1.2 in c:\\users\\ravi varma landeri\\anaconda3\\lib\\site-packages (from beautifulsoup4->bs4) (2.2.1)\n",
      "Requirement already satisfied: requests in c:\\users\\ravi varma landeri\\anaconda3\\lib\\site-packages (2.25.1)\n",
      "Requirement already satisfied: certifi>=2017.4.17 in c:\\users\\ravi varma landeri\\anaconda3\\lib\\site-packages (from requests) (2020.12.5)\n",
      "Requirement already satisfied: chardet<5,>=3.0.2 in c:\\users\\ravi varma landeri\\anaconda3\\lib\\site-packages (from requests) (4.0.0)\n",
      "Requirement already satisfied: urllib3<1.27,>=1.21.1 in c:\\users\\ravi varma landeri\\anaconda3\\lib\\site-packages (from requests) (1.26.4)\n",
      "Requirement already satisfied: idna<3,>=2.5 in c:\\users\\ravi varma landeri\\anaconda3\\lib\\site-packages (from requests) (2.10)\n"
     ]
    }
   ],
   "source": [
    "!pip install bs4\n",
    "!pip install requests"
   ]
  },
  {
   "cell_type": "code",
   "execution_count": 2,
   "id": "866edb22",
   "metadata": {},
   "outputs": [],
   "source": [
    "from bs4 import BeautifulSoup\n",
    "import requests"
   ]
  },
  {
   "cell_type": "code",
   "execution_count": 3,
   "id": "91c68d09",
   "metadata": {},
   "outputs": [],
   "source": [
    "Page = requests.get('https://www.icc-cricket.com/rankings/womens/player-rankings/odi/batting')"
   ]
  },
  {
   "cell_type": "code",
   "execution_count": 4,
   "id": "2e1c44f2",
   "metadata": {},
   "outputs": [],
   "source": [
    "soup = BeautifulSoup(Page.content)"
   ]
  },
  {
   "cell_type": "code",
   "execution_count": null,
   "id": "2a973ef5",
   "metadata": {
    "scrolled": false
   },
   "outputs": [],
   "source": [
    "soup"
   ]
  },
  {
   "cell_type": "code",
   "execution_count": 5,
   "id": "b11e897c",
   "metadata": {},
   "outputs": [
    {
     "data": {
      "text/plain": [
       "[<div class=\"rankings-block__banner--name-large\">Lizelle Lee</div>]"
      ]
     },
     "execution_count": 5,
     "metadata": {},
     "output_type": "execute_result"
    }
   ],
   "source": [
    "r1_Player = soup.find_all('div', class_=\"rankings-block__banner--name-large\")\n",
    "r1_Player"
   ]
  },
  {
   "cell_type": "code",
   "execution_count": 6,
   "id": "f293d5c9",
   "metadata": {},
   "outputs": [
    {
     "data": {
      "text/plain": [
       "['Lizelle Lee']"
      ]
     },
     "execution_count": 6,
     "metadata": {},
     "output_type": "execute_result"
    }
   ],
   "source": [
    "row1_Player=[] \n",
    "for i in r1_Player:\n",
    "    row1_Player.append(i.text.replace('\\n',''))\n",
    "row1_Player"
   ]
  },
  {
   "cell_type": "code",
   "execution_count": 7,
   "id": "fc4ce561",
   "metadata": {},
   "outputs": [
    {
     "data": {
      "text/plain": [
       "[<td class=\"table-body__cell rankings-table__name name\">\n",
       " <a href=\"/rankings/womens/player-rankings/466\">Alyssa Healy</a>\n",
       " </td>,\n",
       " <td class=\"table-body__cell rankings-table__name name\">\n",
       " <a href=\"/rankings/womens/player-rankings/558\">Mithali Raj</a>\n",
       " </td>,\n",
       " <td class=\"table-body__cell rankings-table__name name\">\n",
       " <a href=\"/rankings/womens/player-rankings/545\">Tammy Beaumont</a>\n",
       " </td>,\n",
       " <td class=\"table-body__cell rankings-table__name name\">\n",
       " <a href=\"/rankings/womens/player-rankings/487\">Amy Satterthwaite</a>\n",
       " </td>,\n",
       " <td class=\"table-body__cell rankings-table__name name\">\n",
       " <a href=\"/rankings/womens/player-rankings/1809\">Smriti Mandhana</a>\n",
       " </td>]"
      ]
     },
     "execution_count": 7,
     "metadata": {},
     "output_type": "execute_result"
    }
   ],
   "source": [
    "r2_Player = soup.find_all('td', class_=\"table-body__cell rankings-table__name name\")\n",
    "r2_Player[0:5]"
   ]
  },
  {
   "cell_type": "code",
   "execution_count": 8,
   "id": "8d729f07",
   "metadata": {},
   "outputs": [
    {
     "data": {
      "text/plain": [
       "['Alyssa Healy',\n",
       " 'Mithali Raj',\n",
       " 'Tammy Beaumont',\n",
       " 'Amy Satterthwaite',\n",
       " 'Smriti Mandhana']"
      ]
     },
     "execution_count": 8,
     "metadata": {},
     "output_type": "execute_result"
    }
   ],
   "source": [
    "row2_Player=[] \n",
    "for i in r2_Player:\n",
    "    row2_Player.append(i.text.replace('\\n',''))\n",
    "row2_Player [0:5]\n"
   ]
  },
  {
   "cell_type": "code",
   "execution_count": 9,
   "id": "aa54b756",
   "metadata": {},
   "outputs": [
    {
     "data": {
      "text/plain": [
       "['Lizelle Lee',\n",
       " 'Alyssa Healy',\n",
       " 'Mithali Raj',\n",
       " 'Tammy Beaumont',\n",
       " 'Amy Satterthwaite',\n",
       " 'Smriti Mandhana',\n",
       " 'Meg Lanning',\n",
       " 'Beth Mooney',\n",
       " 'Heather Knight',\n",
       " 'Laura Wolvaardt']"
      ]
     },
     "execution_count": 9,
     "metadata": {},
     "output_type": "execute_result"
    }
   ],
   "source": [
    "Top10_Player = row1_Player + row2_Player[0:9]\n",
    "Top10_Player"
   ]
  },
  {
   "cell_type": "code",
   "execution_count": 10,
   "id": "55a2793a",
   "metadata": {},
   "outputs": [
    {
     "data": {
      "text/plain": [
       "[<div class=\"rankings-block__banner--nationality\">\n",
       " <div class=\"flag-15 SA\"></div>\n",
       " <span class=\"rankings-block__banner--nation\"></span>SA\n",
       "                     </div>]"
      ]
     },
     "execution_count": 10,
     "metadata": {},
     "output_type": "execute_result"
    }
   ],
   "source": [
    "r1_Team = soup.find_all('div', class_=\"rankings-block__banner--nationality\")\n",
    "r1_Team"
   ]
  },
  {
   "cell_type": "code",
   "execution_count": 11,
   "id": "a1509852",
   "metadata": {},
   "outputs": [
    {
     "data": {
      "text/plain": [
       "['SA                    ']"
      ]
     },
     "execution_count": 11,
     "metadata": {},
     "output_type": "execute_result"
    }
   ],
   "source": [
    "row1_Team=[] \n",
    "for i in r1_Team:\n",
    "    row1_Team.append(i.text.replace('\\n',''))\n",
    "row1_Team"
   ]
  },
  {
   "cell_type": "code",
   "execution_count": 12,
   "id": "909e3318",
   "metadata": {},
   "outputs": [
    {
     "data": {
      "text/plain": [
       "[<span class=\"table-body__logo-text\">AUS</span>,\n",
       " <span class=\"table-body__logo-text\">IND</span>,\n",
       " <span class=\"table-body__logo-text\">ENG</span>,\n",
       " <span class=\"table-body__logo-text\">NZ</span>,\n",
       " <span class=\"table-body__logo-text\">IND</span>]"
      ]
     },
     "execution_count": 12,
     "metadata": {},
     "output_type": "execute_result"
    }
   ],
   "source": [
    "r2_Team = soup.find_all('span', class_=\"table-body__logo-text\")\n",
    "r2_Team[0:5]"
   ]
  },
  {
   "cell_type": "code",
   "execution_count": 13,
   "id": "8a447f55",
   "metadata": {},
   "outputs": [
    {
     "data": {
      "text/plain": [
       "['AUS', 'IND', 'ENG', 'NZ', 'IND']"
      ]
     },
     "execution_count": 13,
     "metadata": {},
     "output_type": "execute_result"
    }
   ],
   "source": [
    "row2_Team=[] \n",
    "for i in r2_Team:\n",
    "    row2_Team.append(i.text.replace('\\n',''))\n",
    "row2_Team[0:5]"
   ]
  },
  {
   "cell_type": "code",
   "execution_count": 14,
   "id": "ca7b48be",
   "metadata": {},
   "outputs": [],
   "source": [
    "Top10_Team = row1_Team + row2_Team[0:9]"
   ]
  },
  {
   "cell_type": "code",
   "execution_count": 15,
   "id": "72b53760",
   "metadata": {},
   "outputs": [
    {
     "data": {
      "text/plain": [
       "['SA                    ',\n",
       " 'AUS',\n",
       " 'IND',\n",
       " 'ENG',\n",
       " 'NZ',\n",
       " 'IND',\n",
       " 'AUS',\n",
       " 'AUS',\n",
       " 'ENG',\n",
       " 'SA']"
      ]
     },
     "execution_count": 15,
     "metadata": {},
     "output_type": "execute_result"
    }
   ],
   "source": [
    "Top10_Team"
   ]
  },
  {
   "cell_type": "code",
   "execution_count": 16,
   "id": "460618b3",
   "metadata": {},
   "outputs": [
    {
     "data": {
      "text/plain": [
       "[<div class=\"rankings-block__banner--rating\">761</div>]"
      ]
     },
     "execution_count": 16,
     "metadata": {},
     "output_type": "execute_result"
    }
   ],
   "source": [
    "r1_Rating = soup.find_all('div', class_=\"rankings-block__banner--rating\")\n",
    "r1_Rating"
   ]
  },
  {
   "cell_type": "code",
   "execution_count": 17,
   "id": "7fb5df90",
   "metadata": {},
   "outputs": [
    {
     "data": {
      "text/plain": [
       "['761']"
      ]
     },
     "execution_count": 17,
     "metadata": {},
     "output_type": "execute_result"
    }
   ],
   "source": [
    "row1_Rating=[] \n",
    "for i in r1_Rating:\n",
    "    row1_Rating.append(i.text.replace('\\n',''))\n",
    "row1_Rating"
   ]
  },
  {
   "cell_type": "code",
   "execution_count": 18,
   "id": "c594db19",
   "metadata": {},
   "outputs": [
    {
     "data": {
      "text/plain": [
       "[<td class=\"table-body__cell rating\">750</td>,\n",
       " <td class=\"table-body__cell rating\">738</td>,\n",
       " <td class=\"table-body__cell rating\">728</td>,\n",
       " <td class=\"table-body__cell rating\">717</td>,\n",
       " <td class=\"table-body__cell rating\">710</td>]"
      ]
     },
     "execution_count": 18,
     "metadata": {},
     "output_type": "execute_result"
    }
   ],
   "source": [
    "r2_Rating = soup.find_all('td', class_=\"table-body__cell rating\")\n",
    "r2_Rating[0:5]"
   ]
  },
  {
   "cell_type": "code",
   "execution_count": 19,
   "id": "0c526a28",
   "metadata": {},
   "outputs": [
    {
     "data": {
      "text/plain": [
       "['750', '738', '728', '717', '710']"
      ]
     },
     "execution_count": 19,
     "metadata": {},
     "output_type": "execute_result"
    }
   ],
   "source": [
    "row2_Rating=[] \n",
    "for i in r2_Rating:\n",
    "    row2_Rating.append(i.text.replace('\\n',''))\n",
    "row2_Rating[0:5]"
   ]
  },
  {
   "cell_type": "code",
   "execution_count": 20,
   "id": "fa7215df",
   "metadata": {},
   "outputs": [],
   "source": [
    "Top10_Rating = row1_Rating + row2_Rating[0:9]"
   ]
  },
  {
   "cell_type": "code",
   "execution_count": 21,
   "id": "7eeea894",
   "metadata": {},
   "outputs": [
    {
     "data": {
      "text/plain": [
       "['761', '750', '738', '728', '717', '710', '699', '690', '674', '672']"
      ]
     },
     "execution_count": 21,
     "metadata": {},
     "output_type": "execute_result"
    }
   ],
   "source": [
    "Top10_Rating"
   ]
  },
  {
   "cell_type": "code",
   "execution_count": 25,
   "id": "7e45c34a",
   "metadata": {},
   "outputs": [],
   "source": [
    "Top10_Women_Batting = {'Player':Top10_Player, 'Team':Top10_Team,'Rating':Top10_Rating}"
   ]
  },
  {
   "cell_type": "code",
   "execution_count": 26,
   "id": "6eb7664c",
   "metadata": {},
   "outputs": [
    {
     "data": {
      "text/html": [
       "<div>\n",
       "<style scoped>\n",
       "    .dataframe tbody tr th:only-of-type {\n",
       "        vertical-align: middle;\n",
       "    }\n",
       "\n",
       "    .dataframe tbody tr th {\n",
       "        vertical-align: top;\n",
       "    }\n",
       "\n",
       "    .dataframe thead th {\n",
       "        text-align: right;\n",
       "    }\n",
       "</style>\n",
       "<table border=\"1\" class=\"dataframe\">\n",
       "  <thead>\n",
       "    <tr style=\"text-align: right;\">\n",
       "      <th></th>\n",
       "      <th>Player</th>\n",
       "      <th>Team</th>\n",
       "      <th>Rating</th>\n",
       "    </tr>\n",
       "  </thead>\n",
       "  <tbody>\n",
       "    <tr>\n",
       "      <th>0</th>\n",
       "      <td>Lizelle Lee</td>\n",
       "      <td>SA</td>\n",
       "      <td>761</td>\n",
       "    </tr>\n",
       "    <tr>\n",
       "      <th>1</th>\n",
       "      <td>Alyssa Healy</td>\n",
       "      <td>AUS</td>\n",
       "      <td>750</td>\n",
       "    </tr>\n",
       "    <tr>\n",
       "      <th>2</th>\n",
       "      <td>Mithali Raj</td>\n",
       "      <td>IND</td>\n",
       "      <td>738</td>\n",
       "    </tr>\n",
       "    <tr>\n",
       "      <th>3</th>\n",
       "      <td>Tammy Beaumont</td>\n",
       "      <td>ENG</td>\n",
       "      <td>728</td>\n",
       "    </tr>\n",
       "    <tr>\n",
       "      <th>4</th>\n",
       "      <td>Amy Satterthwaite</td>\n",
       "      <td>NZ</td>\n",
       "      <td>717</td>\n",
       "    </tr>\n",
       "    <tr>\n",
       "      <th>5</th>\n",
       "      <td>Smriti Mandhana</td>\n",
       "      <td>IND</td>\n",
       "      <td>710</td>\n",
       "    </tr>\n",
       "    <tr>\n",
       "      <th>6</th>\n",
       "      <td>Meg Lanning</td>\n",
       "      <td>AUS</td>\n",
       "      <td>699</td>\n",
       "    </tr>\n",
       "    <tr>\n",
       "      <th>7</th>\n",
       "      <td>Beth Mooney</td>\n",
       "      <td>AUS</td>\n",
       "      <td>690</td>\n",
       "    </tr>\n",
       "    <tr>\n",
       "      <th>8</th>\n",
       "      <td>Heather Knight</td>\n",
       "      <td>ENG</td>\n",
       "      <td>674</td>\n",
       "    </tr>\n",
       "    <tr>\n",
       "      <th>9</th>\n",
       "      <td>Laura Wolvaardt</td>\n",
       "      <td>SA</td>\n",
       "      <td>672</td>\n",
       "    </tr>\n",
       "  </tbody>\n",
       "</table>\n",
       "</div>"
      ],
      "text/plain": [
       "              Player                    Team Rating\n",
       "0        Lizelle Lee  SA                        761\n",
       "1       Alyssa Healy                     AUS    750\n",
       "2        Mithali Raj                     IND    738\n",
       "3     Tammy Beaumont                     ENG    728\n",
       "4  Amy Satterthwaite                      NZ    717\n",
       "5    Smriti Mandhana                     IND    710\n",
       "6        Meg Lanning                     AUS    699\n",
       "7        Beth Mooney                     AUS    690\n",
       "8     Heather Knight                     ENG    674\n",
       "9    Laura Wolvaardt                      SA    672"
      ]
     },
     "execution_count": 26,
     "metadata": {},
     "output_type": "execute_result"
    }
   ],
   "source": [
    "import pandas as pd\n",
    "ODI_Top10_Women_Batting = pd.DataFrame(Top10_Women_Batting)\n",
    "ODI_Top10_Women_Batting"
   ]
  },
  {
   "cell_type": "code",
   "execution_count": null,
   "id": "cb23c86b",
   "metadata": {},
   "outputs": [],
   "source": []
  },
  {
   "cell_type": "code",
   "execution_count": null,
   "id": "e6e89091",
   "metadata": {},
   "outputs": [],
   "source": []
  }
 ],
 "metadata": {
  "kernelspec": {
   "display_name": "Python 3",
   "language": "python",
   "name": "python3"
  },
  "language_info": {
   "codemirror_mode": {
    "name": "ipython",
    "version": 3
   },
   "file_extension": ".py",
   "mimetype": "text/x-python",
   "name": "python",
   "nbconvert_exporter": "python",
   "pygments_lexer": "ipython3",
   "version": "3.8.8"
  }
 },
 "nbformat": 4,
 "nbformat_minor": 5
}
