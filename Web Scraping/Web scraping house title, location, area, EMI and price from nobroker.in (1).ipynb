{
 "cells": [
  {
   "cell_type": "code",
   "execution_count": 1,
   "id": "fd1b1103",
   "metadata": {},
   "outputs": [
    {
     "name": "stdout",
     "output_type": "stream",
     "text": [
      "Requirement already satisfied: bs4 in c:\\users\\ravi varma landeri\\anaconda3\\lib\\site-packages (0.0.1)\n",
      "Requirement already satisfied: beautifulsoup4 in c:\\users\\ravi varma landeri\\anaconda3\\lib\\site-packages (from bs4) (4.9.3)\n",
      "Requirement already satisfied: soupsieve>1.2 in c:\\users\\ravi varma landeri\\anaconda3\\lib\\site-packages (from beautifulsoup4->bs4) (2.2.1)\n",
      "Requirement already satisfied: requests in c:\\users\\ravi varma landeri\\anaconda3\\lib\\site-packages (2.25.1)\n",
      "Requirement already satisfied: idna<3,>=2.5 in c:\\users\\ravi varma landeri\\anaconda3\\lib\\site-packages (from requests) (2.10)\n",
      "Requirement already satisfied: urllib3<1.27,>=1.21.1 in c:\\users\\ravi varma landeri\\anaconda3\\lib\\site-packages (from requests) (1.26.4)\n",
      "Requirement already satisfied: certifi>=2017.4.17 in c:\\users\\ravi varma landeri\\anaconda3\\lib\\site-packages (from requests) (2020.12.5)\n",
      "Requirement already satisfied: chardet<5,>=3.0.2 in c:\\users\\ravi varma landeri\\anaconda3\\lib\\site-packages (from requests) (4.0.0)\n"
     ]
    }
   ],
   "source": [
    "!pip install bs4\n",
    "!pip install requests"
   ]
  },
  {
   "cell_type": "code",
   "execution_count": 69,
   "id": "0bf7b832",
   "metadata": {},
   "outputs": [],
   "source": [
    "from bs4 import BeautifulSoup\n",
    "import requests\n",
    "import pandas as pd"
   ]
  },
  {
   "cell_type": "code",
   "execution_count": 3,
   "id": "c45168b4",
   "metadata": {},
   "outputs": [],
   "source": [
    "Page = requests.get('https://www.nobroker.in/property/sale/bangalore/Electronic%20City?type=BHK4&searchParam=W3sibGF0IjoxMi44N%20DUyMTQ1LCJsb24iOjc3LjY2MDE2OTUsInBsYWNlSWQiOiJDaElKdy1GUWQ0cHNyanNSSGZkYXpnXzhYRW8%20iLCJwbGFjZU5hbWUiOiJFbGVjdHJvbmljIENpdHkifV0=&propertyAge=0&radius=2.0')"
   ]
  },
  {
   "cell_type": "code",
   "execution_count": 4,
   "id": "95b9f84a",
   "metadata": {},
   "outputs": [],
   "source": [
    "soup = BeautifulSoup(Page.content)"
   ]
  },
  {
   "cell_type": "code",
   "execution_count": 5,
   "id": "80563fc5",
   "metadata": {},
   "outputs": [
    {
     "data": {
      "text/plain": [
       "<Response [200]>"
      ]
     },
     "execution_count": 5,
     "metadata": {},
     "output_type": "execute_result"
    }
   ],
   "source": [
    "Page"
   ]
  },
  {
   "cell_type": "code",
   "execution_count": null,
   "id": "510da539",
   "metadata": {},
   "outputs": [],
   "source": [
    "soup"
   ]
  },
  {
   "cell_type": "code",
   "execution_count": 8,
   "id": "30f9a700",
   "metadata": {
    "collapsed": true
   },
   "outputs": [
    {
     "data": {
      "text/plain": [
       "['4 BHK In Independent House  For Sale  In Hebbagodi ',\n",
       " '4 BHK In Independent House  For Sale  In Electronics City Phase 1, Electronic City ',\n",
       " '4 BHK Flat  For Sale  In Electronic City ',\n",
       " '4 BHK Apartment  For Sale  In Nisarga Residency In Electronic City Phase Ii ',\n",
       " '4 BHK Flat  For Sale  In Sobha Silicon Oasis  In Hosa Road ',\n",
       " '4 BHK For Sale  In Daadys Garden In Electronic City ',\n",
       " '4 BHK Flat  For Sale  In , Electronic City ',\n",
       " '4 BHK Flat  For Sale  In Hosa Road, Parappana Agrahara ',\n",
       " '4 BHK In Independent House  For Sale  In Electronic City ',\n",
       " '4 BHK In Independent House  For Sale  In Electronic City ',\n",
       " '4 BHK Apartment  For Sale  In Gopalan Gardenia In Electronic City ',\n",
       " '4 BHK For Sale  In Gpr Royale In Gpr Royale ',\n",
       " '4 BHK In Independent House  For Sale  In Sarjapura ',\n",
       " '4 BHK Flat  For Sale  In Heena Enclave In Electronic City ',\n",
       " '4 BHK For Sale  In Deccan Palms Park In Electronic City ',\n",
       " '4 BHK In Independent House  For Sale  In Electronic City Phase Ii ']"
      ]
     },
     "execution_count": 8,
     "metadata": {},
     "output_type": "execute_result"
    }
   ],
   "source": [
    "house_tilte = []\n",
    "for i in soup.find_all('h2', class_= \"heading-6 font-semi-bold nb__25Cl7\"):\n",
    "\n",
    "    house_tilte.append(i.text)\n",
    "house_tilte "
   ]
  },
  {
   "cell_type": "code",
   "execution_count": 62,
   "id": "70a4076a",
   "metadata": {},
   "outputs": [
    {
     "data": {
      "text/plain": [
       "[<div class=\"nb__1EwQz\">Independent House, Bangalore - Hosur Road, Near  National Public School</div>,\n",
       " <div class=\"nb__1EwQz\">Independent House, brand factory</div>,\n",
       " <div class=\"nb__1EwQz\">Standalone Building, YOUNG LIFE PG FOR LADIES, Konappana Agrahara, Electronic City, Bengaluru, Karnataka, India</div>,\n",
       " <div class=\"nb__1EwQz\"><a class=\"nb__1QW8k\" href=\"/nisarga-residency-electronic-city-phase-ii_bangalore-prjt-5ba009ad714b568105764d26\" style=\"color:#787676;float:left;margin-right:0;text-transform:capitalize;border-bottom:1px dashed;text-decoration:none\" target=\"_blank\">Nisarga Residency</a>  <!-- -->Near Thali Resturant, Ananth Nagar, Electronic City Phase II, Bangalore, Karnataka, INDIA.</div>,\n",
       " <div class=\"nb__1EwQz\">Sobha Silicon Oasis Naganathapura, Rayasandra Bengaluru, Karnataka 560100 India</div>,\n",
       " <div class=\"nb__1EwQz\"><a class=\"nb__1QW8k\" href=\"/daadys-garden-electronic-city_bangalore-prjt-5ba009ad714b568105761868\" style=\"color:#787676;float:left;margin-right:0;text-transform:capitalize;border-bottom:1px dashed;text-decoration:none\" target=\"_blank\">Daadys Garden</a>  <!-- -->Kammasandra Rd, Kammasandra, Electronic City, Bengaluru, Karnataka 560100, India</div>,\n",
       " <div class=\"nb__1EwQz\">Standalone Building, 16th Cross Road Neeladri Nagar, near by brand factory</div>,\n",
       " <div class=\"nb__1EwQz\">Standalone Building, 11th cross.anjanadri lay out</div>,\n",
       " <div class=\"nb__1EwQz\">Independent House, surya nagar face 1</div>,\n",
       " <div class=\"nb__1EwQz\">Independent House, Hosur Rd,Near Infosys Limited</div>,\n",
       " <div class=\"nb__1EwQz\"><a class=\"nb__1QW8k\" href=\"/gopalan-gardenia-electronic-city_bangalore-prjt-5ba009ad714b568105761406\" style=\"color:#787676;float:left;margin-right:0;text-transform:capitalize;border-bottom:1px dashed;text-decoration:none\" target=\"_blank\">Gopalan Gardenia</a>  <!-- -->Gopalan gardenia, Veerasandra Main Rd, Veer Sandra, Electronic City, Bengaluru, Karnataka 560100, India</div>,\n",
       " <div class=\"nb__1EwQz\">6th Cross</div>,\n",
       " <div class=\"nb__1EwQz\">Independent House,  Shantipura Village , S.P Layout , near  Shantipura Panchayat Office</div>,\n",
       " <div class=\"nb__1EwQz\"> Neeladri Nagar,Near Pioneer Sun Blossom</div>,\n",
       " <div class=\"nb__1EwQz\"><a class=\"nb__1QW8k\" href=\"/deccan-palms-park-electronic-city_bangalore-prjt-5e97361aa5a1662dac0ae854\" style=\"color:#787676;float:left;margin-right:0;text-transform:capitalize;border-bottom:1px dashed;text-decoration:none\" target=\"_blank\">Deccan Palms Park</a>  <!-- -->Deccan Palms Villas, Deccan Palms Road, Shree Ananth Nagar Layout, Glass Factory Layout, Electronic City, Bengaluru, Karnataka 560100, India</div>,\n",
       " <div class=\"nb__1EwQz\">Independent House, Industrial Area Near Tech Mahindra</div>]"
      ]
     },
     "execution_count": 62,
     "metadata": {},
     "output_type": "execute_result"
    }
   ],
   "source": [
    "loc = soup.find_all('div',class_= 'nb__1EwQz')\n",
    "    \n",
    "loc"
   ]
  },
  {
   "cell_type": "code",
   "execution_count": 63,
   "id": "3108f474",
   "metadata": {},
   "outputs": [
    {
     "data": {
      "text/plain": [
       "['Independent House, Bangalore - Hosur Road, Near  National Public School',\n",
       " 'Independent House, brand factory',\n",
       " 'Standalone Building, YOUNG LIFE PG FOR LADIES, Konappana Agrahara, Electronic City, Bengaluru, Karnataka, India',\n",
       " 'Nisarga Residency\\xa0 Near Thali Resturant, Ananth Nagar, Electronic City Phase II, Bangalore, Karnataka, INDIA.',\n",
       " 'Sobha Silicon Oasis Naganathapura, Rayasandra Bengaluru, Karnataka 560100 India',\n",
       " 'Daadys Garden\\xa0 Kammasandra Rd, Kammasandra, Electronic City, Bengaluru, Karnataka 560100, India',\n",
       " 'Standalone Building, 16th Cross Road Neeladri Nagar, near by brand factory',\n",
       " 'Standalone Building, 11th cross.anjanadri lay out',\n",
       " 'Independent House, surya nagar face 1',\n",
       " 'Independent House, Hosur Rd,Near Infosys Limited',\n",
       " 'Gopalan Gardenia\\xa0 Gopalan gardenia, Veerasandra Main Rd, Veer Sandra, Electronic City, Bengaluru, Karnataka 560100, India',\n",
       " '6th Cross',\n",
       " 'Independent House,  Shantipura Village , S.P Layout , near  Shantipura Panchayat Office',\n",
       " ' Neeladri Nagar,Near Pioneer Sun Blossom',\n",
       " 'Deccan Palms Park\\xa0 Deccan Palms Villas, Deccan Palms Road, Shree Ananth Nagar Layout, Glass Factory Layout, Electronic City, Bengaluru, Karnataka 560100, India',\n",
       " 'Independent House, Industrial Area Near Tech Mahindra']"
      ]
     },
     "execution_count": 63,
     "metadata": {},
     "output_type": "execute_result"
    }
   ],
   "source": [
    "\n",
    "\n",
    "location=[] \n",
    "for i in loc:\n",
    "    location.append(i.text.replace('\\n',''))\n",
    "\n",
    "location"
   ]
  },
  {
   "cell_type": "code",
   "execution_count": 59,
   "id": "133cdf07",
   "metadata": {},
   "outputs": [
    {
     "data": {
      "text/plain": [
       "['1,800 sqft',\n",
       " '₹77,374/Month',\n",
       " '₹1.35 Crores',\n",
       " '2,000 sqft',\n",
       " '₹39,546/Month',\n",
       " '₹69 Lacs',\n",
       " '1,120 sqft',\n",
       " '₹28,657/Month',\n",
       " '₹50 Lacs',\n",
       " '2,000 sqft',\n",
       " '₹45,851/Month',\n",
       " '₹80 Lacs',\n",
       " '1,879 sqft',\n",
       " '₹91,703/Month',\n",
       " '₹1.6 Crores',\n",
       " '2,600 sqft',\n",
       " '₹85,971/Month',\n",
       " '₹1.5 Crores',\n",
       " '2,000 sqft',\n",
       " '₹39,546/Month',\n",
       " '₹69 Lacs',\n",
       " '3,000 sqft',\n",
       " '₹71,643/Month',\n",
       " '₹1.25 Crores',\n",
       " '3,000 sqft',\n",
       " '₹1.43 Lacs/Month',\n",
       " '₹2.5 Crores',\n",
       " '1,200 sqft',\n",
       " '₹42,985/Month',\n",
       " '₹75 Lacs',\n",
       " '2,650 sqft',\n",
       " '₹68,777/Month',\n",
       " '₹1.2 Crores',\n",
       " '3,100 sqft',\n",
       " '₹85,971/Month',\n",
       " '₹1.5 Crores',\n",
       " '1,100 sqft',\n",
       " '₹40,120/Month',\n",
       " '₹70 Lacs',\n",
       " '2,350 sqft',\n",
       " '₹71,643/Month',\n",
       " '₹1.25 Crores',\n",
       " '3,000 sqft',\n",
       " '₹85,971/Month',\n",
       " '₹1.5 Crores',\n",
       " '1,500 sqft',\n",
       " '₹57,314/Month',\n",
       " '₹1 Crore']"
      ]
     },
     "execution_count": 59,
     "metadata": {},
     "output_type": "execute_result"
    }
   ],
   "source": [
    "h6=[]\n",
    "for i in soup.find_all(\"div\",class_=\"font-semi-bold heading-6\"):\n",
    "    h6.append(i.text)\n",
    "h6"
   ]
  },
  {
   "cell_type": "code",
   "execution_count": 64,
   "id": "e4c5bdb6",
   "metadata": {},
   "outputs": [
    {
     "data": {
      "text/plain": [
       "['1,800 sqft',\n",
       " '2,000 sqft',\n",
       " '1,120 sqft',\n",
       " '2,000 sqft',\n",
       " '1,879 sqft',\n",
       " '2,600 sqft',\n",
       " '2,000 sqft',\n",
       " '3,000 sqft',\n",
       " '3,000 sqft',\n",
       " '1,200 sqft',\n",
       " '2,650 sqft',\n",
       " '3,100 sqft',\n",
       " '1,100 sqft',\n",
       " '2,350 sqft',\n",
       " '3,000 sqft',\n",
       " '1,500 sqft']"
      ]
     },
     "execution_count": 64,
     "metadata": {},
     "output_type": "execute_result"
    }
   ],
   "source": [
    "area=[]\n",
    "for i in range(0,len(h6),3):\n",
    "    area.append(h6[i])\n",
    "    \n",
    "area"
   ]
  },
  {
   "cell_type": "code",
   "execution_count": 61,
   "id": "8bcf5f08",
   "metadata": {},
   "outputs": [
    {
     "data": {
      "text/plain": [
       "['₹1.35 Crores',\n",
       " '₹69 Lacs',\n",
       " '₹50 Lacs',\n",
       " '₹80 Lacs',\n",
       " '₹1.6 Crores',\n",
       " '₹1.5 Crores',\n",
       " '₹69 Lacs',\n",
       " '₹1.25 Crores',\n",
       " '₹2.5 Crores',\n",
       " '₹75 Lacs',\n",
       " '₹1.2 Crores',\n",
       " '₹1.5 Crores',\n",
       " '₹70 Lacs',\n",
       " '₹1.25 Crores',\n",
       " '₹1.5 Crores',\n",
       " '₹1 Crore']"
      ]
     },
     "execution_count": 61,
     "metadata": {},
     "output_type": "execute_result"
    }
   ],
   "source": [
    "price=[]\n",
    "for i in range(2,len(h6),3):\n",
    "    price.append(h6[i])\n",
    "    \n",
    "price"
   ]
  },
  {
   "cell_type": "code",
   "execution_count": 65,
   "id": "284680e8",
   "metadata": {},
   "outputs": [
    {
     "data": {
      "text/plain": [
       "['₹77,374/Month',\n",
       " '₹39,546/Month',\n",
       " '₹28,657/Month',\n",
       " '₹45,851/Month',\n",
       " '₹91,703/Month',\n",
       " '₹85,971/Month',\n",
       " '₹39,546/Month',\n",
       " '₹71,643/Month',\n",
       " '₹1.43 Lacs/Month',\n",
       " '₹42,985/Month',\n",
       " '₹68,777/Month',\n",
       " '₹85,971/Month',\n",
       " '₹40,120/Month',\n",
       " '₹71,643/Month',\n",
       " '₹85,971/Month',\n",
       " '₹57,314/Month']"
      ]
     },
     "execution_count": 65,
     "metadata": {},
     "output_type": "execute_result"
    }
   ],
   "source": [
    "EMI=[]\n",
    "for i in range(1,len(h6),3):\n",
    "    EMI.append(h6[i])\n",
    "    \n",
    "EMI"
   ]
  },
  {
   "cell_type": "code",
   "execution_count": 72,
   "id": "2d6533d7",
   "metadata": {},
   "outputs": [
    {
     "data": {
      "text/html": [
       "<div>\n",
       "<style scoped>\n",
       "    .dataframe tbody tr th:only-of-type {\n",
       "        vertical-align: middle;\n",
       "    }\n",
       "\n",
       "    .dataframe tbody tr th {\n",
       "        vertical-align: top;\n",
       "    }\n",
       "\n",
       "    .dataframe thead th {\n",
       "        text-align: right;\n",
       "    }\n",
       "</style>\n",
       "<table border=\"1\" class=\"dataframe\">\n",
       "  <thead>\n",
       "    <tr style=\"text-align: right;\">\n",
       "      <th></th>\n",
       "      <th>Title</th>\n",
       "      <th>Location</th>\n",
       "      <th>Area</th>\n",
       "      <th>Price</th>\n",
       "      <th>EMI</th>\n",
       "    </tr>\n",
       "  </thead>\n",
       "  <tbody>\n",
       "    <tr>\n",
       "      <th>0</th>\n",
       "      <td>4 BHK In Independent House  For Sale  In Hebba...</td>\n",
       "      <td>Independent House, Bangalore - Hosur Road, Nea...</td>\n",
       "      <td>1,800 sqft</td>\n",
       "      <td>₹1.35 Crores</td>\n",
       "      <td>₹77,374/Month</td>\n",
       "    </tr>\n",
       "    <tr>\n",
       "      <th>1</th>\n",
       "      <td>4 BHK In Independent House  For Sale  In Elect...</td>\n",
       "      <td>Independent House, brand factory</td>\n",
       "      <td>2,000 sqft</td>\n",
       "      <td>₹69 Lacs</td>\n",
       "      <td>₹39,546/Month</td>\n",
       "    </tr>\n",
       "    <tr>\n",
       "      <th>2</th>\n",
       "      <td>4 BHK Flat  For Sale  In Electronic City</td>\n",
       "      <td>Standalone Building, YOUNG LIFE PG FOR LADIES,...</td>\n",
       "      <td>1,120 sqft</td>\n",
       "      <td>₹50 Lacs</td>\n",
       "      <td>₹28,657/Month</td>\n",
       "    </tr>\n",
       "    <tr>\n",
       "      <th>3</th>\n",
       "      <td>4 BHK Apartment  For Sale  In Nisarga Residenc...</td>\n",
       "      <td>Nisarga Residency  Near Thali Resturant, Anant...</td>\n",
       "      <td>2,000 sqft</td>\n",
       "      <td>₹80 Lacs</td>\n",
       "      <td>₹45,851/Month</td>\n",
       "    </tr>\n",
       "    <tr>\n",
       "      <th>4</th>\n",
       "      <td>4 BHK Flat  For Sale  In Sobha Silicon Oasis  ...</td>\n",
       "      <td>Sobha Silicon Oasis Naganathapura, Rayasandra ...</td>\n",
       "      <td>1,879 sqft</td>\n",
       "      <td>₹1.6 Crores</td>\n",
       "      <td>₹91,703/Month</td>\n",
       "    </tr>\n",
       "    <tr>\n",
       "      <th>5</th>\n",
       "      <td>4 BHK For Sale  In Daadys Garden In Electronic...</td>\n",
       "      <td>Daadys Garden  Kammasandra Rd, Kammasandra, El...</td>\n",
       "      <td>2,600 sqft</td>\n",
       "      <td>₹1.5 Crores</td>\n",
       "      <td>₹85,971/Month</td>\n",
       "    </tr>\n",
       "    <tr>\n",
       "      <th>6</th>\n",
       "      <td>4 BHK Flat  For Sale  In , Electronic City</td>\n",
       "      <td>Standalone Building, 16th Cross Road Neeladri ...</td>\n",
       "      <td>2,000 sqft</td>\n",
       "      <td>₹69 Lacs</td>\n",
       "      <td>₹39,546/Month</td>\n",
       "    </tr>\n",
       "    <tr>\n",
       "      <th>7</th>\n",
       "      <td>4 BHK Flat  For Sale  In Hosa Road, Parappana ...</td>\n",
       "      <td>Standalone Building, 11th cross.anjanadri lay out</td>\n",
       "      <td>3,000 sqft</td>\n",
       "      <td>₹1.25 Crores</td>\n",
       "      <td>₹71,643/Month</td>\n",
       "    </tr>\n",
       "    <tr>\n",
       "      <th>8</th>\n",
       "      <td>4 BHK In Independent House  For Sale  In Elect...</td>\n",
       "      <td>Independent House, surya nagar face 1</td>\n",
       "      <td>3,000 sqft</td>\n",
       "      <td>₹2.5 Crores</td>\n",
       "      <td>₹1.43 Lacs/Month</td>\n",
       "    </tr>\n",
       "    <tr>\n",
       "      <th>9</th>\n",
       "      <td>4 BHK In Independent House  For Sale  In Elect...</td>\n",
       "      <td>Independent House, Hosur Rd,Near Infosys Limited</td>\n",
       "      <td>1,200 sqft</td>\n",
       "      <td>₹75 Lacs</td>\n",
       "      <td>₹42,985/Month</td>\n",
       "    </tr>\n",
       "    <tr>\n",
       "      <th>10</th>\n",
       "      <td>4 BHK Apartment  For Sale  In Gopalan Gardenia...</td>\n",
       "      <td>Gopalan Gardenia  Gopalan gardenia, Veerasandr...</td>\n",
       "      <td>2,650 sqft</td>\n",
       "      <td>₹1.2 Crores</td>\n",
       "      <td>₹68,777/Month</td>\n",
       "    </tr>\n",
       "    <tr>\n",
       "      <th>11</th>\n",
       "      <td>4 BHK For Sale  In Gpr Royale In Gpr Royale</td>\n",
       "      <td>6th Cross</td>\n",
       "      <td>3,100 sqft</td>\n",
       "      <td>₹1.5 Crores</td>\n",
       "      <td>₹85,971/Month</td>\n",
       "    </tr>\n",
       "    <tr>\n",
       "      <th>12</th>\n",
       "      <td>4 BHK In Independent House  For Sale  In Sarja...</td>\n",
       "      <td>Independent House,  Shantipura Village , S.P L...</td>\n",
       "      <td>1,100 sqft</td>\n",
       "      <td>₹70 Lacs</td>\n",
       "      <td>₹40,120/Month</td>\n",
       "    </tr>\n",
       "    <tr>\n",
       "      <th>13</th>\n",
       "      <td>4 BHK Flat  For Sale  In Heena Enclave In Elec...</td>\n",
       "      <td>Neeladri Nagar,Near Pioneer Sun Blossom</td>\n",
       "      <td>2,350 sqft</td>\n",
       "      <td>₹1.25 Crores</td>\n",
       "      <td>₹71,643/Month</td>\n",
       "    </tr>\n",
       "    <tr>\n",
       "      <th>14</th>\n",
       "      <td>4 BHK For Sale  In Deccan Palms Park In Electr...</td>\n",
       "      <td>Deccan Palms Park  Deccan Palms Villas, Deccan...</td>\n",
       "      <td>3,000 sqft</td>\n",
       "      <td>₹1.5 Crores</td>\n",
       "      <td>₹85,971/Month</td>\n",
       "    </tr>\n",
       "    <tr>\n",
       "      <th>15</th>\n",
       "      <td>4 BHK In Independent House  For Sale  In Elect...</td>\n",
       "      <td>Independent House, Industrial Area Near Tech M...</td>\n",
       "      <td>1,500 sqft</td>\n",
       "      <td>₹1 Crore</td>\n",
       "      <td>₹57,314/Month</td>\n",
       "    </tr>\n",
       "  </tbody>\n",
       "</table>\n",
       "</div>"
      ],
      "text/plain": [
       "                                                Title  \\\n",
       "0   4 BHK In Independent House  For Sale  In Hebba...   \n",
       "1   4 BHK In Independent House  For Sale  In Elect...   \n",
       "2           4 BHK Flat  For Sale  In Electronic City    \n",
       "3   4 BHK Apartment  For Sale  In Nisarga Residenc...   \n",
       "4   4 BHK Flat  For Sale  In Sobha Silicon Oasis  ...   \n",
       "5   4 BHK For Sale  In Daadys Garden In Electronic...   \n",
       "6         4 BHK Flat  For Sale  In , Electronic City    \n",
       "7   4 BHK Flat  For Sale  In Hosa Road, Parappana ...   \n",
       "8   4 BHK In Independent House  For Sale  In Elect...   \n",
       "9   4 BHK In Independent House  For Sale  In Elect...   \n",
       "10  4 BHK Apartment  For Sale  In Gopalan Gardenia...   \n",
       "11       4 BHK For Sale  In Gpr Royale In Gpr Royale    \n",
       "12  4 BHK In Independent House  For Sale  In Sarja...   \n",
       "13  4 BHK Flat  For Sale  In Heena Enclave In Elec...   \n",
       "14  4 BHK For Sale  In Deccan Palms Park In Electr...   \n",
       "15  4 BHK In Independent House  For Sale  In Elect...   \n",
       "\n",
       "                                             Location        Area  \\\n",
       "0   Independent House, Bangalore - Hosur Road, Nea...  1,800 sqft   \n",
       "1                    Independent House, brand factory  2,000 sqft   \n",
       "2   Standalone Building, YOUNG LIFE PG FOR LADIES,...  1,120 sqft   \n",
       "3   Nisarga Residency  Near Thali Resturant, Anant...  2,000 sqft   \n",
       "4   Sobha Silicon Oasis Naganathapura, Rayasandra ...  1,879 sqft   \n",
       "5   Daadys Garden  Kammasandra Rd, Kammasandra, El...  2,600 sqft   \n",
       "6   Standalone Building, 16th Cross Road Neeladri ...  2,000 sqft   \n",
       "7   Standalone Building, 11th cross.anjanadri lay out  3,000 sqft   \n",
       "8               Independent House, surya nagar face 1  3,000 sqft   \n",
       "9    Independent House, Hosur Rd,Near Infosys Limited  1,200 sqft   \n",
       "10  Gopalan Gardenia  Gopalan gardenia, Veerasandr...  2,650 sqft   \n",
       "11                                          6th Cross  3,100 sqft   \n",
       "12  Independent House,  Shantipura Village , S.P L...  1,100 sqft   \n",
       "13            Neeladri Nagar,Near Pioneer Sun Blossom  2,350 sqft   \n",
       "14  Deccan Palms Park  Deccan Palms Villas, Deccan...  3,000 sqft   \n",
       "15  Independent House, Industrial Area Near Tech M...  1,500 sqft   \n",
       "\n",
       "           Price               EMI  \n",
       "0   ₹1.35 Crores     ₹77,374/Month  \n",
       "1       ₹69 Lacs     ₹39,546/Month  \n",
       "2       ₹50 Lacs     ₹28,657/Month  \n",
       "3       ₹80 Lacs     ₹45,851/Month  \n",
       "4    ₹1.6 Crores     ₹91,703/Month  \n",
       "5    ₹1.5 Crores     ₹85,971/Month  \n",
       "6       ₹69 Lacs     ₹39,546/Month  \n",
       "7   ₹1.25 Crores     ₹71,643/Month  \n",
       "8    ₹2.5 Crores  ₹1.43 Lacs/Month  \n",
       "9       ₹75 Lacs     ₹42,985/Month  \n",
       "10   ₹1.2 Crores     ₹68,777/Month  \n",
       "11   ₹1.5 Crores     ₹85,971/Month  \n",
       "12      ₹70 Lacs     ₹40,120/Month  \n",
       "13  ₹1.25 Crores     ₹71,643/Month  \n",
       "14   ₹1.5 Crores     ₹85,971/Month  \n",
       "15      ₹1 Crore     ₹57,314/Month  "
      ]
     },
     "execution_count": 72,
     "metadata": {},
     "output_type": "execute_result"
    }
   ],
   "source": [
    "df=pd.DataFrame({\"Title\":house_tilte,\"Location\":location,\"Area\":area,\"Price\":price,\"EMI\":EMI})\n",
    "\n",
    "df"
   ]
  },
  {
   "cell_type": "code",
   "execution_count": null,
   "id": "2f3a189b",
   "metadata": {},
   "outputs": [],
   "source": []
  }
 ],
 "metadata": {
  "kernelspec": {
   "display_name": "Python 3",
   "language": "python",
   "name": "python3"
  },
  "language_info": {
   "codemirror_mode": {
    "name": "ipython",
    "version": 3
   },
   "file_extension": ".py",
   "mimetype": "text/x-python",
   "name": "python",
   "nbconvert_exporter": "python",
   "pygments_lexer": "ipython3",
   "version": "3.8.8"
  }
 },
 "nbformat": 4,
 "nbformat_minor": 5
}
