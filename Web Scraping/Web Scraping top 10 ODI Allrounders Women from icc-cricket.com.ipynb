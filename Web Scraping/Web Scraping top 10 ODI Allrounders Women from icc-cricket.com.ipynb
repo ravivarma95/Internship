{
 "cells": [
  {
   "cell_type": "code",
   "execution_count": 1,
   "id": "ab6070d1",
   "metadata": {},
   "outputs": [
    {
     "name": "stdout",
     "output_type": "stream",
     "text": [
      "Requirement already satisfied: bs4 in c:\\users\\ravi varma landeri\\anaconda3\\lib\\site-packages (0.0.1)\n",
      "Requirement already satisfied: beautifulsoup4 in c:\\users\\ravi varma landeri\\anaconda3\\lib\\site-packages (from bs4) (4.9.3)\n",
      "Requirement already satisfied: soupsieve>1.2 in c:\\users\\ravi varma landeri\\anaconda3\\lib\\site-packages (from beautifulsoup4->bs4) (2.2.1)\n",
      "Requirement already satisfied: requests in c:\\users\\ravi varma landeri\\anaconda3\\lib\\site-packages (2.25.1)\n",
      "Requirement already satisfied: certifi>=2017.4.17 in c:\\users\\ravi varma landeri\\anaconda3\\lib\\site-packages (from requests) (2020.12.5)\n",
      "Requirement already satisfied: urllib3<1.27,>=1.21.1 in c:\\users\\ravi varma landeri\\anaconda3\\lib\\site-packages (from requests) (1.26.4)\n",
      "Requirement already satisfied: idna<3,>=2.5 in c:\\users\\ravi varma landeri\\anaconda3\\lib\\site-packages (from requests) (2.10)\n",
      "Requirement already satisfied: chardet<5,>=3.0.2 in c:\\users\\ravi varma landeri\\anaconda3\\lib\\site-packages (from requests) (4.0.0)\n"
     ]
    }
   ],
   "source": [
    "!pip install bs4\n",
    "!pip install requests"
   ]
  },
  {
   "cell_type": "code",
   "execution_count": 2,
   "id": "0473a62a",
   "metadata": {},
   "outputs": [],
   "source": [
    "from bs4 import BeautifulSoup\n",
    "import requests"
   ]
  },
  {
   "cell_type": "code",
   "execution_count": 3,
   "id": "3b966f9d",
   "metadata": {},
   "outputs": [],
   "source": [
    "Page = requests.get('https://www.icc-cricket.com/rankings/womens/player-rankings/odi/all-rounder')"
   ]
  },
  {
   "cell_type": "code",
   "execution_count": 4,
   "id": "41adfd1a",
   "metadata": {},
   "outputs": [],
   "source": [
    "soup = BeautifulSoup(Page.content)"
   ]
  },
  {
   "cell_type": "code",
   "execution_count": null,
   "id": "74b973a5",
   "metadata": {
    "scrolled": false
   },
   "outputs": [],
   "source": [
    "soup"
   ]
  },
  {
   "cell_type": "code",
   "execution_count": 5,
   "id": "1b25f6ee",
   "metadata": {},
   "outputs": [
    {
     "data": {
      "text/plain": [
       "[<div class=\"rankings-block__banner--name-large\">Marizanne Kapp</div>]"
      ]
     },
     "execution_count": 5,
     "metadata": {},
     "output_type": "execute_result"
    }
   ],
   "source": [
    "r1_Player = soup.find_all('div', class_=\"rankings-block__banner--name-large\")\n",
    "r1_Player"
   ]
  },
  {
   "cell_type": "code",
   "execution_count": 6,
   "id": "0136225a",
   "metadata": {},
   "outputs": [
    {
     "data": {
      "text/plain": [
       "['Marizanne Kapp']"
      ]
     },
     "execution_count": 6,
     "metadata": {},
     "output_type": "execute_result"
    }
   ],
   "source": [
    "row1_Player=[] \n",
    "for i in r1_Player:\n",
    "    row1_Player.append(i.text.replace('\\n',''))\n",
    "row1_Player"
   ]
  },
  {
   "cell_type": "code",
   "execution_count": 7,
   "id": "ce4f63ab",
   "metadata": {},
   "outputs": [
    {
     "data": {
      "text/plain": [
       "[<td class=\"table-body__cell rankings-table__name name\">\n",
       " <a href=\"/rankings/womens/player-rankings/1800\">Natalie Sciver</a>\n",
       " </td>,\n",
       " <td class=\"table-body__cell rankings-table__name name\">\n",
       " <a href=\"/rankings/womens/player-rankings/471\">Ellyse Perry</a>\n",
       " </td>,\n",
       " <td class=\"table-body__cell rankings-table__name name\">\n",
       " <a href=\"/rankings/womens/player-rankings/573\">Stafanie Taylor</a>\n",
       " </td>,\n",
       " <td class=\"table-body__cell rankings-table__name name\">\n",
       " <a href=\"/rankings/womens/player-rankings/3192\">Deepti Sharma</a>\n",
       " </td>,\n",
       " <td class=\"table-body__cell rankings-table__name name\">\n",
       " <a href=\"/rankings/womens/player-rankings/4128\">Ashleigh Gardner</a>\n",
       " </td>]"
      ]
     },
     "execution_count": 7,
     "metadata": {},
     "output_type": "execute_result"
    }
   ],
   "source": [
    "r2_Player = soup.find_all('td', class_=\"table-body__cell rankings-table__name name\")\n",
    "r2_Player[0:5]"
   ]
  },
  {
   "cell_type": "code",
   "execution_count": 8,
   "id": "884d5fdf",
   "metadata": {},
   "outputs": [
    {
     "data": {
      "text/plain": [
       "['Natalie Sciver',\n",
       " 'Ellyse Perry',\n",
       " 'Stafanie Taylor',\n",
       " 'Deepti Sharma',\n",
       " 'Ashleigh Gardner']"
      ]
     },
     "execution_count": 8,
     "metadata": {},
     "output_type": "execute_result"
    }
   ],
   "source": [
    "row2_Player=[] \n",
    "for i in r2_Player:\n",
    "    row2_Player.append(i.text.replace('\\n',''))\n",
    "row2_Player [0:5]\n"
   ]
  },
  {
   "cell_type": "code",
   "execution_count": 9,
   "id": "d1d1e88b",
   "metadata": {},
   "outputs": [
    {
     "data": {
      "text/plain": [
       "['Marizanne Kapp',\n",
       " 'Natalie Sciver',\n",
       " 'Ellyse Perry',\n",
       " 'Stafanie Taylor',\n",
       " 'Deepti Sharma',\n",
       " 'Ashleigh Gardner',\n",
       " 'Dane van Niekerk',\n",
       " 'Jess Jonassen',\n",
       " 'Katherine Brunt',\n",
       " 'Hayley Matthews']"
      ]
     },
     "execution_count": 9,
     "metadata": {},
     "output_type": "execute_result"
    }
   ],
   "source": [
    "Top10_Player = row1_Player + row2_Player[0:9]\n",
    "Top10_Player"
   ]
  },
  {
   "cell_type": "code",
   "execution_count": 10,
   "id": "8797c914",
   "metadata": {},
   "outputs": [
    {
     "data": {
      "text/plain": [
       "[<div class=\"rankings-block__banner--nationality\">\n",
       " <div class=\"flag-15 SA\"></div>\n",
       " <span class=\"rankings-block__banner--nation\"></span>SA\n",
       "                     </div>]"
      ]
     },
     "execution_count": 10,
     "metadata": {},
     "output_type": "execute_result"
    }
   ],
   "source": [
    "r1_Team = soup.find_all('div', class_=\"rankings-block__banner--nationality\")\n",
    "r1_Team"
   ]
  },
  {
   "cell_type": "code",
   "execution_count": 11,
   "id": "167b7152",
   "metadata": {},
   "outputs": [
    {
     "data": {
      "text/plain": [
       "['SA                    ']"
      ]
     },
     "execution_count": 11,
     "metadata": {},
     "output_type": "execute_result"
    }
   ],
   "source": [
    "row1_Team=[] \n",
    "for i in r1_Team:\n",
    "    row1_Team.append(i.text.replace('\\n',''))\n",
    "row1_Team"
   ]
  },
  {
   "cell_type": "code",
   "execution_count": 12,
   "id": "a4626129",
   "metadata": {},
   "outputs": [
    {
     "data": {
      "text/plain": [
       "[<span class=\"table-body__logo-text\">ENG</span>,\n",
       " <span class=\"table-body__logo-text\">AUS</span>,\n",
       " <span class=\"table-body__logo-text\">WI</span>,\n",
       " <span class=\"table-body__logo-text\">IND</span>,\n",
       " <span class=\"table-body__logo-text\">AUS</span>]"
      ]
     },
     "execution_count": 12,
     "metadata": {},
     "output_type": "execute_result"
    }
   ],
   "source": [
    "r2_Team = soup.find_all('span', class_=\"table-body__logo-text\")\n",
    "r2_Team[0:5]"
   ]
  },
  {
   "cell_type": "code",
   "execution_count": 13,
   "id": "b675095b",
   "metadata": {},
   "outputs": [
    {
     "data": {
      "text/plain": [
       "['ENG', 'AUS', 'WI', 'IND', 'AUS']"
      ]
     },
     "execution_count": 13,
     "metadata": {},
     "output_type": "execute_result"
    }
   ],
   "source": [
    "row2_Team=[] \n",
    "for i in r2_Team:\n",
    "    row2_Team.append(i.text.replace('\\n',''))\n",
    "row2_Team[0:5]"
   ]
  },
  {
   "cell_type": "code",
   "execution_count": 14,
   "id": "061b32d2",
   "metadata": {},
   "outputs": [],
   "source": [
    "Top10_Team = row1_Team + row2_Team[0:9]"
   ]
  },
  {
   "cell_type": "code",
   "execution_count": 15,
   "id": "5572ca4d",
   "metadata": {},
   "outputs": [
    {
     "data": {
      "text/plain": [
       "['SA                    ',\n",
       " 'ENG',\n",
       " 'AUS',\n",
       " 'WI',\n",
       " 'IND',\n",
       " 'AUS',\n",
       " 'SA',\n",
       " 'AUS',\n",
       " 'ENG',\n",
       " 'WI']"
      ]
     },
     "execution_count": 15,
     "metadata": {},
     "output_type": "execute_result"
    }
   ],
   "source": [
    "Top10_Team"
   ]
  },
  {
   "cell_type": "code",
   "execution_count": 16,
   "id": "efd23a23",
   "metadata": {},
   "outputs": [
    {
     "data": {
      "text/plain": [
       "[<div class=\"rankings-block__banner--rating\">384</div>]"
      ]
     },
     "execution_count": 16,
     "metadata": {},
     "output_type": "execute_result"
    }
   ],
   "source": [
    "r1_Rating = soup.find_all('div', class_=\"rankings-block__banner--rating\")\n",
    "r1_Rating"
   ]
  },
  {
   "cell_type": "code",
   "execution_count": 17,
   "id": "85c36983",
   "metadata": {},
   "outputs": [
    {
     "data": {
      "text/plain": [
       "['384']"
      ]
     },
     "execution_count": 17,
     "metadata": {},
     "output_type": "execute_result"
    }
   ],
   "source": [
    "row1_Rating=[] \n",
    "for i in r1_Rating:\n",
    "    row1_Rating.append(i.text.replace('\\n',''))\n",
    "row1_Rating"
   ]
  },
  {
   "cell_type": "code",
   "execution_count": 18,
   "id": "8c1658e5",
   "metadata": {},
   "outputs": [
    {
     "data": {
      "text/plain": [
       "[<td class=\"table-body__cell rating\">372</td>,\n",
       " <td class=\"table-body__cell rating\">365</td>,\n",
       " <td class=\"table-body__cell rating\">314</td>,\n",
       " <td class=\"table-body__cell rating\">299</td>,\n",
       " <td class=\"table-body__cell rating\">275</td>]"
      ]
     },
     "execution_count": 18,
     "metadata": {},
     "output_type": "execute_result"
    }
   ],
   "source": [
    "r2_Rating = soup.find_all('td', class_=\"table-body__cell rating\")\n",
    "r2_Rating[0:5]"
   ]
  },
  {
   "cell_type": "code",
   "execution_count": 19,
   "id": "5c182971",
   "metadata": {},
   "outputs": [
    {
     "data": {
      "text/plain": [
       "['372', '365', '314', '299', '275']"
      ]
     },
     "execution_count": 19,
     "metadata": {},
     "output_type": "execute_result"
    }
   ],
   "source": [
    "row2_Rating=[] \n",
    "for i in r2_Rating:\n",
    "    row2_Rating.append(i.text.replace('\\n',''))\n",
    "row2_Rating[0:5]"
   ]
  },
  {
   "cell_type": "code",
   "execution_count": 20,
   "id": "8fced032",
   "metadata": {},
   "outputs": [],
   "source": [
    "Top10_Rating = row1_Rating + row2_Rating[0:9]"
   ]
  },
  {
   "cell_type": "code",
   "execution_count": 21,
   "id": "70f69b2f",
   "metadata": {},
   "outputs": [
    {
     "data": {
      "text/plain": [
       "['384', '372', '365', '314', '299', '275', '274', '272', '272', '271']"
      ]
     },
     "execution_count": 21,
     "metadata": {},
     "output_type": "execute_result"
    }
   ],
   "source": [
    "Top10_Rating"
   ]
  },
  {
   "cell_type": "code",
   "execution_count": 25,
   "id": "9a2c233f",
   "metadata": {},
   "outputs": [],
   "source": [
    "Top10_Allrounders_Women = {'Player':Top10_Player, 'Team':Top10_Team,'Rating':Top10_Rating}"
   ]
  },
  {
   "cell_type": "code",
   "execution_count": 27,
   "id": "e781192f",
   "metadata": {},
   "outputs": [
    {
     "data": {
      "text/html": [
       "<div>\n",
       "<style scoped>\n",
       "    .dataframe tbody tr th:only-of-type {\n",
       "        vertical-align: middle;\n",
       "    }\n",
       "\n",
       "    .dataframe tbody tr th {\n",
       "        vertical-align: top;\n",
       "    }\n",
       "\n",
       "    .dataframe thead th {\n",
       "        text-align: right;\n",
       "    }\n",
       "</style>\n",
       "<table border=\"1\" class=\"dataframe\">\n",
       "  <thead>\n",
       "    <tr style=\"text-align: right;\">\n",
       "      <th></th>\n",
       "      <th>Player</th>\n",
       "      <th>Team</th>\n",
       "      <th>Rating</th>\n",
       "    </tr>\n",
       "  </thead>\n",
       "  <tbody>\n",
       "    <tr>\n",
       "      <th>0</th>\n",
       "      <td>Marizanne Kapp</td>\n",
       "      <td>SA</td>\n",
       "      <td>384</td>\n",
       "    </tr>\n",
       "    <tr>\n",
       "      <th>1</th>\n",
       "      <td>Natalie Sciver</td>\n",
       "      <td>ENG</td>\n",
       "      <td>372</td>\n",
       "    </tr>\n",
       "    <tr>\n",
       "      <th>2</th>\n",
       "      <td>Ellyse Perry</td>\n",
       "      <td>AUS</td>\n",
       "      <td>365</td>\n",
       "    </tr>\n",
       "    <tr>\n",
       "      <th>3</th>\n",
       "      <td>Stafanie Taylor</td>\n",
       "      <td>WI</td>\n",
       "      <td>314</td>\n",
       "    </tr>\n",
       "    <tr>\n",
       "      <th>4</th>\n",
       "      <td>Deepti Sharma</td>\n",
       "      <td>IND</td>\n",
       "      <td>299</td>\n",
       "    </tr>\n",
       "    <tr>\n",
       "      <th>5</th>\n",
       "      <td>Ashleigh Gardner</td>\n",
       "      <td>AUS</td>\n",
       "      <td>275</td>\n",
       "    </tr>\n",
       "    <tr>\n",
       "      <th>6</th>\n",
       "      <td>Dane van Niekerk</td>\n",
       "      <td>SA</td>\n",
       "      <td>274</td>\n",
       "    </tr>\n",
       "    <tr>\n",
       "      <th>7</th>\n",
       "      <td>Jess Jonassen</td>\n",
       "      <td>AUS</td>\n",
       "      <td>272</td>\n",
       "    </tr>\n",
       "    <tr>\n",
       "      <th>8</th>\n",
       "      <td>Katherine Brunt</td>\n",
       "      <td>ENG</td>\n",
       "      <td>272</td>\n",
       "    </tr>\n",
       "    <tr>\n",
       "      <th>9</th>\n",
       "      <td>Hayley Matthews</td>\n",
       "      <td>WI</td>\n",
       "      <td>271</td>\n",
       "    </tr>\n",
       "  </tbody>\n",
       "</table>\n",
       "</div>"
      ],
      "text/plain": [
       "             Player                    Team Rating\n",
       "0    Marizanne Kapp  SA                        384\n",
       "1    Natalie Sciver                     ENG    372\n",
       "2      Ellyse Perry                     AUS    365\n",
       "3   Stafanie Taylor                      WI    314\n",
       "4     Deepti Sharma                     IND    299\n",
       "5  Ashleigh Gardner                     AUS    275\n",
       "6  Dane van Niekerk                      SA    274\n",
       "7     Jess Jonassen                     AUS    272\n",
       "8   Katherine Brunt                     ENG    272\n",
       "9   Hayley Matthews                      WI    271"
      ]
     },
     "execution_count": 27,
     "metadata": {},
     "output_type": "execute_result"
    }
   ],
   "source": [
    "import pandas as pd\n",
    "ODI_Top10_Allrounders_Women = pd.DataFrame(Top10_Allrounders_Women)\n",
    "ODI_Top10_Allrounders_Women"
   ]
  },
  {
   "cell_type": "code",
   "execution_count": null,
   "id": "cedd3c42",
   "metadata": {},
   "outputs": [],
   "source": []
  }
 ],
 "metadata": {
  "kernelspec": {
   "display_name": "Python 3",
   "language": "python",
   "name": "python3"
  },
  "language_info": {
   "codemirror_mode": {
    "name": "ipython",
    "version": 3
   },
   "file_extension": ".py",
   "mimetype": "text/x-python",
   "name": "python",
   "nbconvert_exporter": "python",
   "pygments_lexer": "ipython3",
   "version": "3.8.8"
  }
 },
 "nbformat": 4,
 "nbformat_minor": 5
}
