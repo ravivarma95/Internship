{
 "cells": [
  {
   "cell_type": "markdown",
   "id": "f16f112d",
   "metadata": {},
   "source": [
    "#                                  PYTHON – WORKSHEET 1 \n",
    "\n",
    "## 1 to Q8 have only one correct answer. Choose the correct option to answer your question. \n",
    "\n",
    " \n",
    "\n",
    "1. Which of the following operators is used to calculate remainder in a division? \n",
    "\n",
    " Answer: C \n",
    "\n",
    " A) #  B) &  C) %  D) $\n",
    "\n",
    "\n",
    " 2. In python 2//3 is equal to? \n",
    " \n",
    " Answer:B  \n",
    "\n",
    "  A) 0.666  B) 0  C) 1  D) 0.67 \n",
    "\n",
    "3. In python, 6<<2 is equal to? \n",
    "\n",
    " Answer: C \n",
    "\n",
    "  A) 36  B) 10  C) 24  D) 45 \n",
    "\n",
    "\n",
    "4. In python, 6&2 will give which of the following as output?\n",
    "\n",
    " Answer: A \n",
    "\n",
    "  A) 2  B) True  C) False  D) 0 \n",
    "  \n",
    "\n",
    "5. In python, 6|2 will give which of the following as output?\n",
    " \n",
    " Answer: D \n",
    "\n",
    "  A) 2   B) 4   C) 0   D) 6 \n",
    "\n",
    "\n",
    "6. What does the finally keyword denotes in python?\n",
    " \n",
    " Answer: C \n",
    "\n",
    "  A) It is used to mark the end of the code \n",
    "\n",
    "  B) It encloses the lines of code which will be executed if any error occurs while executing the lines of code in the try block. \n",
    "\n",
    "  C) the finally block will be executed no matter if the try block raises an error or not. \n",
    "\n",
    "  D) None of the above \n",
    "\n",
    " \n",
    "\n",
    "7. What does raise keyword is used for in python? \n",
    "\n",
    " Answer: A \n",
    "\n",
    " A) It is used to raise an exception.    B) It is used to define lambda function \n",
    "\n",
    " C) it's not a keyword in python.\t D) None of the above \n",
    "\n",
    " \n",
    "\n",
    "8.\tWhich of the following is a common use case of yield keyword in python?\n",
    " \n",
    " Answer: C \n",
    "\n",
    " A) in defining an iterator\t  B) while defining a lambda function \n",
    "\n",
    " C) in defining a generator\t  D) in for loop.\n",
    " \n",
    "  \n",
    "\n",
    " "
   ]
  },
  {
   "cell_type": "markdown",
   "id": "29195430",
   "metadata": {},
   "source": [
    "## Q9 and Q10 have multiple correct answers. Choose all the correct options to answer your question. \n",
    "\n",
    " \n",
    "\n",
    "9.\tWhich of the following are the valid variable names? \n",
    "\n",
    " Answer: A& C \n",
    "\n",
    "  A) _abc\tB) 1abc \n",
    "\n",
    "  C) abc2\tD) None of the above \n",
    "\n",
    " \n",
    "\n",
    "10. Which of the following are the keywords in python?\n",
    "\n",
    " Answer: A & B \n",
    "\n",
    "  A) yield\tB) raise \n",
    "\n",
    "  C) look-in D) all of the above "
   ]
  },
  {
   "cell_type": "code",
   "execution_count": 11,
   "id": "6af9740a",
   "metadata": {},
   "outputs": [
    {
     "name": "stdout",
     "output_type": "stream",
     "text": [
      "Enter any number to find factorial: 5\n",
      "The factorial of 5 = 120\n"
     ]
    }
   ],
   "source": [
    "# 11) python program to find the factorial of a number\n",
    "\n",
    "num=int(input(\"Enter any number to find factorial: \"))\n",
    "\n",
    "def factorial(X):\n",
    "    fact=1\n",
    "    for i in range(1, X+1):\n",
    "        fact=fact*i\n",
    "    return fact    \n",
    "\n",
    "result=factorial(num)\n",
    "\n",
    "print('The factorial of %d = %d' %(num,result))"
   ]
  },
  {
   "cell_type": "code",
   "execution_count": 9,
   "id": "87ae7bdc",
   "metadata": {},
   "outputs": [
    {
     "name": "stdout",
     "output_type": "stream",
     "text": [
      "Enter any number : 15\n",
      "15 is NOT a primr number,it is a COMPOSITE number\n"
     ]
    }
   ],
   "source": [
    "# 12) python program to find whether a number is prime or composite\n",
    "\n",
    "\n",
    "num = int(input(\"Enter any number : \"))\n",
    "if num < 2:\n",
    "    print(num, \"is a neither prime NOR composite number\")\n",
    "else:\n",
    "    for i in range(2, num):\n",
    "        if (num % i) == 0:\n",
    "            print(num, \"is NOT a primr number,it is a COMPOSITE number\")\n",
    "            break\n",
    "    else: \n",
    "        print(num, \"is a primr number\")\n",
    "        \n",
    " "
   ]
  },
  {
   "cell_type": "code",
   "execution_count": 8,
   "id": "ed353b8d",
   "metadata": {},
   "outputs": [
    {
     "name": "stdout",
     "output_type": "stream",
     "text": [
      "Enter any number : 12321\n",
      "12321 is a palindrome\n"
     ]
    }
   ],
   "source": [
    "# 13)  python program to check whether a given string is palindrome or not\n",
    "\n",
    "strng = input(\"Enter any number : \")\n",
    "rev_strng = str(strng)[::-1]\n",
    "if strng == rev_strng:\n",
    "    print(strng, \"is a palindrome\")\n",
    "else:\n",
    "    print(strng, \"is not a palindrome \")\n"
   ]
  },
  {
   "cell_type": "code",
   "execution_count": 5,
   "id": "abb890af",
   "metadata": {},
   "outputs": [],
   "source": [
    "#  14) Python program to get the third side of right-angled triangle from two given sides\n",
    "\n",
    "\n",
    "def pythagoras(opp_side,adj_side,hypo):\n",
    "        if opp_side == str(\"x\"):\n",
    "            return (\"Opposite = \" + str(((hypo**2) - (adj_side**2))**0.5))\n",
    "        elif adj_side == str(\"x\"):\n",
    "            return (\"Adjacent = \" + str(((hypo**2) - (opp_side**2))**0.5))\n",
    "        elif hypo == str(\"x\"):\n",
    "            return (\"Hypotenuse = \" + str(((opp_side**2) + (adj_side**2))**0.5))\n",
    "        else:\n",
    "            return \"All three sides are given\"\n",
    "        "
   ]
  },
  {
   "cell_type": "code",
   "execution_count": 6,
   "id": "4fd1de90",
   "metadata": {},
   "outputs": [
    {
     "name": "stdout",
     "output_type": "stream",
     "text": [
      "Hypotenuse = 5.0\n"
     ]
    }
   ],
   "source": [
    "print(pythagoras(3,4,'x'))"
   ]
  },
  {
   "cell_type": "code",
   "execution_count": 7,
   "id": "1d9d6e99",
   "metadata": {},
   "outputs": [
    {
     "name": "stdout",
     "output_type": "stream",
     "text": [
      "All three sides are given\n"
     ]
    }
   ],
   "source": [
    "print(pythagoras(3,4,10))"
   ]
  },
  {
   "cell_type": "code",
   "execution_count": 14,
   "id": "82cdc768",
   "metadata": {},
   "outputs": [
    {
     "name": "stdout",
     "output_type": "stream",
     "text": [
      "Enter any string : ravi varma\n",
      "frequency of each of the characters in a given string is : Counter({'a': 3, 'r': 2, 'v': 2, 'i': 1, ' ': 1, 'm': 1})\n"
     ]
    }
   ],
   "source": [
    "#  15) python program to print the frequency of each of the characters present in a given string\n",
    "\n",
    "import collections\n",
    "\n",
    "test_str = str(input(\"Enter any string : \"))\n",
    "\n",
    "str_count = collections.Counter(test_str)\n",
    "  \n",
    "print (\"frequency of each of the characters in a given string is : \" +  str(str_count))"
   ]
  },
  {
   "cell_type": "code",
   "execution_count": null,
   "id": "35646244",
   "metadata": {},
   "outputs": [],
   "source": []
  }
 ],
 "metadata": {
  "kernelspec": {
   "display_name": "Python 3",
   "language": "python",
   "name": "python3"
  },
  "language_info": {
   "codemirror_mode": {
    "name": "ipython",
    "version": 3
   },
   "file_extension": ".py",
   "mimetype": "text/x-python",
   "name": "python",
   "nbconvert_exporter": "python",
   "pygments_lexer": "ipython3",
   "version": "3.8.8"
  }
 },
 "nbformat": 4,
 "nbformat_minor": 5
}
